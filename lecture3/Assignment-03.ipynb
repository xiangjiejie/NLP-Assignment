{
 "cells": [
  {
   "cell_type": "markdown",
   "metadata": {},
   "source": [
    "## Assignment-03 First Step of Machine Learning: Model and Evaluation"
   ]
  },
  {
   "cell_type": "markdown",
   "metadata": {},
   "source": [
    "同学们，今天我们的学习了基本的机器学习概念，相比你已经对机器学习的这些方法有一个基本的认识了。值得说明的是，机器学习不仅仅是一系列方法，更重要的是一种思维体系，即：依据以往的、现有的数据，构建某种方法来解决未见过的问题。而且决策树，贝叶斯只是实现这个目标的一个方法，包括之后的神经网络。很有可能有一天，神经网络也会被淘汰，但是重要的是我们要理解机器学习的目标，就是尽可能的自动化解决未知的问题。"
   ]
  },
  {
   "cell_type": "markdown",
   "metadata": {},
   "source": [
    "![](https://timgsa.baidu.com/timg?image&quality=80&size=b9999_10000&sec=1571556399207&di=4a97dc15ad08dd49d3748d1edf6109b3&imgtype=0&src=http%3A%2F%2Fc.hiphotos.baidu.com%2Fzhidao%2Fwh%3D450%2C600%2Fsign%3Dae742c6aedcd7b89e93932873a146e91%2F5d6034a85edf8db1b16050c40223dd54574e74c7.jpg)"
   ]
  },
  {
   "cell_type": "markdown",
   "metadata": {},
   "source": [
    "## Part-1 Programming Review 编程回顾"
   ]
  },
  {
   "cell_type": "markdown",
   "metadata": {},
   "source": [
    "#### 1. Re-code the Linear-Regression Model using scikit-learning(10 points)"
   ]
  },
  {
   "cell_type": "markdown",
   "metadata": {},
   "source": [
    "<评阅点>： \n",
    "> + 是否完成线性回归模型 (4')\n",
    "+ 能够进行预测新数据(3')\n",
    "+ 能够进行可视化操作(3')"
   ]
  },
  {
   "cell_type": "code",
   "execution_count": 20,
   "metadata": {},
   "outputs": [
    {
     "name": "stdout",
     "output_type": "stream",
     "text": [
      "y [ 6.07033987  1.52195839  5.25616387 14.4453332   0.77627139  9.33904288\n",
      " 14.68865244  8.42570064 17.5491784   8.66847426 15.19394873 15.35905204\n",
      " 16.54318083 12.18060843  9.44522735 15.30788918 16.13389468  7.31919633\n",
      " 14.441449    3.39943267]\n",
      "[14.19291915]\n"
     ]
    },
    {
     "data": {
      "text/plain": [
       "array([20.0158563])"
      ]
     },
     "execution_count": 20,
     "metadata": {},
     "output_type": "execute_result"
    },
    {
     "data": {
      "image/png": "[encoded data removed]",
      "text/plain": [
       "<Figure size 432x288 with 1 Axes>"
      ]
     },
     "metadata": {
      "needs_background": "light"
     },
     "output_type": "display_data"
    }
   ],
   "source": [
    "# you code here\n",
    "import random\n",
    "import numpy as np\n",
    "import matplotlib.pyplot as plt\n",
    "from sklearn.linear_model import LinearRegression\n",
    "random_data = np.random.random((20, 2))\n",
    "X = random_data[:, 0]\n",
    "# y = random_data[:, 1]\n",
    "def assmuing_function(x):\n",
    "    # 在我们的日常生活中是常见的\n",
    "    # 体重 -> 高血压的概率\n",
    "    # 收入 -> 买阿玛尼的概率\n",
    "    # 其实都是一种潜在的函数关系 + 一个随机变化\n",
    "    return 13.4 * x + 5 + random.randint(-5, 5)\n",
    "y = [assmuing_function(x) for x in X]\n",
    "\n",
    "##1、 线性回归\n",
    "\n",
    "y = np.array(y)\n",
    "print('y',y)\n",
    "\n",
    "reg = LinearRegression().fit(X.reshape(-1, 1), y)\n",
    "reg.score(X.reshape(-1, 1), y)\n",
    "print(reg.coef_)\n",
    "\n",
    "reg.coef_ # 系数\n",
    "reg.intercept_ # \n",
    "def f(x): \n",
    "    return reg.coef_ * x + reg.intercept_\n",
    "plt.scatter(X, y)\n",
    "plt.plot(X, f(X), color='red')\n",
    "\n"
   ]
  },
  {
   "cell_type": "code",
   "execution_count": 21,
   "metadata": {},
   "outputs": [
    {
     "data": {
      "text/plain": [
       "array([17.17727247])"
      ]
     },
     "execution_count": 21,
     "metadata": {},
     "output_type": "execute_result"
    }
   ],
   "source": [
    "## 2、预测新数据\n",
    "reg.predict([[0.9]])"
   ]
  },
  {
   "cell_type": "markdown",
   "metadata": {},
   "source": [
    "#### 2. Complete the unfinished KNN Model using pure python to solve the previous Line-Regression problem. (8 points)"
   ]
  },
  {
   "cell_type": "markdown",
   "metadata": {},
   "source": [
    "<评阅点>:\n",
    "> + 是否完成了KNN模型 (4')\n",
    "+ 是否能够预测新的数据 (4')"
   ]
  },
  {
   "cell_type": "code",
   "execution_count": 99,
   "metadata": {},
   "outputs": [
    {
     "name": "stdout",
     "output_type": "stream",
     "text": [
      "count 1\n",
      "count 4\n"
     ]
    },
    {
     "data": {
      "text/plain": [
       "'B'"
      ]
     },
     "execution_count": 99,
     "metadata": {},
     "output_type": "execute_result"
    }
   ],
   "source": [
    "# you code here\n",
    "\n",
    "# 数据A函数\n",
    "def assmuing_function_a(x):\n",
    "    return 13.4 * x + 5 + random.randint(-5, 5)\n",
    "\n",
    "def assmuing_function_b(x):\n",
    "    return 11.23 * x + 6 + random.randint(-15, 15)\n",
    "\n",
    "\n",
    "def model(X, y):\n",
    "    return [(Xi, yi) for Xi, yi in zip(X, y)]\n",
    "\n",
    "# 生成数据\n",
    "def creat_data(f):\n",
    "    random_data = np.random.random((20, 2))\n",
    "    X = random_data[:, 0]\n",
    "    y = [f(x) for x in X]\n",
    "    return model(X, y)\n",
    "\n",
    "# 生成AB两种类型的数据    \n",
    "data_a = creat_data(f=assmuing_function_a)\n",
    "data_b = creat_data(f=assmuing_function_b)\n",
    "all_data = data_a + data_b\n",
    "\n",
    "\n",
    "# 计算两点距离\n",
    "from scipy.spatial.distance import cosine\n",
    "def distance(x1, x2):\n",
    "    return cosine(x1, x2)\n",
    "\n",
    "# 出现次数\n",
    "def frequency(similars, target):\n",
    "    count = 0\n",
    "    for data in similars:        \n",
    "        if data in target:\n",
    "            count+= 1\n",
    "    print('count', count)\n",
    "    return count\n",
    "\n",
    "    \n",
    "def get_similars(position, k=5):\n",
    "    # 最近的K个点\n",
    "    most_similars = sorted(all_data, key=lambda xi: distance(xi, position))[:k]\n",
    "    return most_similars  \n",
    "\n",
    "def decision(new_data):\n",
    "    similars = get_similars(new_data)\n",
    "    # 判断新数据属于哪种类型的数据\n",
    "    if frequency(similars, data_a) > frequency(similars, data_b):\n",
    "        return 'A'\n",
    "    else: \n",
    "        return 'B'\n",
    "    \n",
    "\n",
    "decision(np.random.random(2))    \n"
   ]
  },
  {
   "cell_type": "markdown",
   "metadata": {},
   "source": [
    "#### 3. Re-code the Decision Tree, which could sort the features by salience. (12 points)"
   ]
  },
  {
   "cell_type": "markdown",
   "metadata": {},
   "source": [
    "<评阅点>\n",
    "> + 是否实现了信息熵 (1' )\n",
    "+ 是否实现了最优先特征点的选择(5')\n",
    "+ 是否实现了持续的特征选则(6')"
   ]
  },
  {
   "cell_type": "code",
   "execution_count": 115,
   "metadata": {},
   "outputs": [
    {
     "name": "stderr",
     "output_type": "stream",
     "text": [
      "ic| probs: [1.0]\n",
      "ic| probs: [0.25, 0.75]\n",
      "ic| probs: [0.6666666666666666, 0.3333333333333333]\n",
      "ic| probs: [0.6, 0.4]\n",
      "ic| probs: [1.0]\n",
      "ic| probs: [0.6, 0.4]\n",
      "ic| probs: [1.0]\n",
      "ic| probs: [1.0]\n",
      "ic| probs: [1.0]\n"
     ]
    },
    {
     "name": "stdout",
     "output_type": "stream",
     "text": [
      "1.198849312913621\n",
      "0.6730116670092565\n",
      "0.6730116670092565\n"
     ]
    }
   ],
   "source": [
    "# you code here\n",
    "from collections import Counter\n",
    "from icecream import ic\n",
    "\n",
    "def entropy(elements):\n",
    "    '''群体的混乱程度'''\n",
    "    counter = Counter(elements)\n",
    "    probs = [counter[c] / len(elements) for c in set(elements)]\n",
    "    ic(probs)\n",
    "    return - sum(p * np.log(p) for p in probs)\n",
    "\n",
    "entropy([1, 1, 1, 1])\n",
    "\n",
    "mock_data = {\n",
    "    'gender':['F', 'F', 'F', 'F', 'M', 'M', 'M'],\n",
    "    'income': ['+10', '-10', '+10', '+10', '+10', '+10', '-10'],\n",
    "    'family_number': [1, 1, 2, 1, 1, 1, 2],\n",
    "    'pet': [1, 1, 1, 0, 0, 0, 1],\n",
    "    'bought': [1, 1, 1, 0, 0, 0, 1],\n",
    "}\n",
    "import pandas as pd\n",
    "dataset = pd.DataFrame.from_dict(mock_data)\n",
    "dataset\n",
    "# split_by_gender: \n",
    "print(entropy([1, 1, 1, 0]) + entropy([0, 0, 1]))\n",
    "\n",
    "# split_by_income:\n",
    "print(entropy([1, 1, 0, 0, 0]) + entropy([1, 1]))\n",
    "\n",
    "# split_by_family_number\n",
    "print(entropy([1, 1, 0, 0, 0]) + entropy([1, 1]))\n",
    "\n",
    "# split_by_some_feature: \n",
    "entropy([1, 1, 1, 1]) + entropy([0, 0, 0])\n",
    "set(mock_data['family_number'])\n",
    "set(mock_data['gender'])\n",
    "sub_split_1 = dataset[dataset['family_number'] == 1]['bought'].tolist()\n",
    "sub_split_2 = dataset[dataset['family_number'] != 1]['bought'].tolist()\n",
    "\n"
   ]
  },
  {
   "cell_type": "code",
   "execution_count": 117,
   "metadata": {},
   "outputs": [],
   "source": [
    "def find_the_optimal_spilter(training_data: pd.DataFrame, target: str) -> str:\n",
    "    x_fields = set(training_data.columns.tolist()) - {target}\n",
    "    \n",
    "    spliter = None\n",
    "    min_entropy = float('inf')\n",
    "    \n",
    "    for f in x_fields:\n",
    "        ic(f)\n",
    "        values = set(training_data[f])\n",
    "        ic(values)\n",
    "        for v in values:\n",
    "            sub_spliter_1 = training_data[training_data[f] == v][target].tolist()\n",
    "            ic(sub_split_1)\n",
    "            # split by the current feature and one value\n",
    "            \n",
    "            entropy_1 = entropy(sub_spliter_1)\n",
    "            ic(entropy_1)\n",
    "            \n",
    "            sub_spliter_2 = training_data[training_data[f] != v][target].tolist()\n",
    "            ic(sub_split_2)\n",
    "            \n",
    "            entropy_2 = entropy(sub_spliter_2)\n",
    "            ic(entropy_2)\n",
    "            \n",
    "            entropy_v = entropy_1 + entropy_2\n",
    "            ic(entropy_v)\n",
    "            \n",
    "            if entropy_v <= min_entropy:\n",
    "                min_entropy = entropy_v\n",
    "                spliter = (f, v)\n",
    "    \n",
    "    print('spliter is: {}'.format(spliter))\n",
    "    print('the min entropy is: {}'.format(min_entropy))\n",
    "    \n",
    "    return spliter"
   ]
  },
  {
   "cell_type": "code",
   "execution_count": 118,
   "metadata": {},
   "outputs": [
    {
     "name": "stderr",
     "output_type": "stream",
     "text": [
      "ic| f: 'family_number'\n",
      "ic| values: {1, 2}\n",
      "ic| sub_split_1: [1, 1, 0, 0, 0]\n",
      "ic| probs: [0.6, 0.4]\n",
      "ic| entropy_1: 0.6730116670092565\n",
      "ic| sub_split_2: [1, 1]\n",
      "ic| probs: [1.0]\n",
      "ic| entropy_2: -0.0\n",
      "ic| entropy_v: 0.6730116670092565\n",
      "ic| sub_split_1: [1, 1, 0, 0, 0]\n",
      "ic| probs: [1.0]\n",
      "ic| entropy_1: -0.0\n",
      "ic| sub_split_2: [1, 1]\n",
      "ic| probs: [0.6, 0.4]\n",
      "ic| entropy_2: 0.6730116670092565\n",
      "ic| entropy_v: 0.6730116670092565\n",
      "ic| f: 'pet'\n",
      "ic| values: {0, 1}\n",
      "ic| sub_split_1: [1, 1, 0, 0, 0]\n",
      "ic| probs: [1.0]\n",
      "ic| entropy_1: -0.0\n",
      "ic| sub_split_2: [1, 1]\n",
      "ic| probs: [1.0]\n",
      "ic| entropy_2: -0.0\n",
      "ic| entropy_v: -0.0\n",
      "ic| sub_split_1: [1, 1, 0, 0, 0]\n",
      "ic| probs: [1.0]\n",
      "ic| entropy_1: -0.0\n",
      "ic| sub_split_2: [1, 1]\n",
      "ic| probs: [1.0]\n",
      "ic| entropy_2: -0.0\n",
      "ic| entropy_v: -0.0\n",
      "ic| f: 'gender'\n",
      "ic| values: {'F', 'M'}\n",
      "ic| sub_split_1: [1, 1, 0, 0, 0]\n",
      "ic| probs: [0.25, 0.75]\n",
      "ic| entropy_1: 0.5623351446188083\n",
      "ic| sub_split_2: [1, 1]\n",
      "ic| probs: [0.6666666666666666, 0.3333333333333333]\n",
      "ic| entropy_2: 0.6365141682948128\n",
      "ic| entropy_v: 1.198849312913621\n",
      "ic| sub_split_1: [1, 1, 0, 0, 0]\n",
      "ic| probs: [0.6666666666666666, 0.3333333333333333]\n",
      "ic| entropy_1: 0.6365141682948128\n",
      "ic| sub_split_2: [1, 1]\n",
      "ic| probs: [0.25, 0.75]\n",
      "ic| entropy_2: 0.5623351446188083\n",
      "ic| entropy_v: 1.198849312913621\n",
      "ic| f: 'income'\n",
      "ic| values: {'-10', '+10'}\n",
      "ic| sub_split_1: [1, 1, 0, 0, 0]\n",
      "ic| probs: [1.0]\n",
      "ic| entropy_1: -0.0\n",
      "ic| sub_split_2: [1, 1]\n",
      "ic| probs: [0.6, 0.4]\n",
      "ic| entropy_2: 0.6730116670092565\n",
      "ic| entropy_v: 0.6730116670092565\n",
      "ic| sub_split_1: [1, 1, 0, 0, 0]\n",
      "ic| probs: [0.6, 0.4]\n",
      "ic| entropy_1: 0.6730116670092565\n",
      "ic| sub_split_2: [1, 1]\n",
      "ic| probs: [1.0]\n",
      "ic| entropy_2: -0.0\n",
      "ic| entropy_v: 0.6730116670092565\n"
     ]
    },
    {
     "name": "stdout",
     "output_type": "stream",
     "text": [
      "spliter is: ('pet', 1)\n",
      "the min entropy is: -0.0\n"
     ]
    },
    {
     "data": {
      "text/plain": [
       "('pet', 1)"
      ]
     },
     "execution_count": 118,
     "metadata": {},
     "output_type": "execute_result"
    }
   ],
   "source": [
    "find_the_optimal_spilter(training_data=dataset, target='bought')"
   ]
  },
  {
   "cell_type": "markdown",
   "metadata": {},
   "source": [
    "#### 4. Finish the K-Means using 2-D matplotlib (8 points)"
   ]
  },
  {
   "cell_type": "markdown",
   "metadata": {},
   "source": [
    "<评阅点>\n",
    "> + 是否完成了KMeans模型，基于scikit-learning (3')\n",
    "+ 是否完成了可视化任务（5'）"
   ]
  },
  {
   "cell_type": "code",
   "execution_count": 127,
   "metadata": {},
   "outputs": [
    {
     "name": "stdout",
     "output_type": "stream",
     "text": [
      "X1 [78, 40, 44, 100, 86, 92, 31, 76, 48, 2, 0, 42, 57, 45, 69, 84, 16, 24, 46, 31, 85, 87, 38, 65, 44, 31, 30, 84, 54, 87, 4, 95, 71, 69, 39, 60, 27, 93, 67, 25, 57, 18, 17, 17, 73, 40, 55, 91, 59, 81, 49, 10, 89, 52, 16, 8, 92, 90, 46, 43, 22, 72, 81, 88, 2, 70, 100, 9, 45, 44, 98, 63, 54, 64, 73, 67, 70, 51, 94, 98, 14, 32, 97, 79, 80, 48, 55, 54, 56, 99, 1, 47, 1, 36, 65, 60, 93, 98, 24, 48]\n",
      "cluster KMeans(algorithm='auto', copy_x=True, init='k-means++', max_iter=500,\n",
      "       n_clusters=6, n_init=10, n_jobs=None, precompute_distances='auto',\n",
      "       random_state=None, tol=0.0001, verbose=0)\n",
      "randint 40\n",
      "centers[label] [[40, 87], [31, 81], [48, 58], [57, 81], [24, 99], [46, 94], [38, 97], [54, 55], [57, 80], [40, 57], [55, 93], [59, 63], [49, 88], [52, 90], [46, 79], [45, 94], [51, 69], [32, 84], [55, 91], [47, 65], [36, 88], [48, 61]]\n"
     ]
    },
    {
     "data": {
      "image/png": "[encoded data removed]",
      "text/plain": [
       "<Figure size 432x288 with 1 Axes>"
      ]
     },
     "metadata": {
      "needs_background": "light"
     },
     "output_type": "display_data"
    }
   ],
   "source": [
    "# your code\n",
    "from sklearn.cluster import KMeans\n",
    "X1 = [random.randint(0, 100) for _ in range(100)]\n",
    "X2 = [random.randint(0, 100) for _ in range(100)]\n",
    "plt.scatter(X1, X2)\n",
    "tranning_data = [[x1, x2] for x1, x2 in zip(X1, X2)]\n",
    "cluster = KMeans(n_clusters=6, max_iter=500)\n",
    "print('X1', X1)\n",
    "print('cluster',cluster)\n",
    "\n",
    "print('randint',random.randint(0, 100))\n",
    "cluster.fit(tranning_data)\n",
    "cluster.cluster_centers_\n",
    "cluster.labels_\n",
    "from collections import defaultdict\n",
    "centers = defaultdict(list)\n",
    "for label, location in zip(cluster.labels_, tranning_data):\n",
    "    centers[label].append(location)\n",
    "    \n",
    "print('centers[label]', centers[label])    \n",
    "    \n",
    "color = ['red', 'green', 'grey', 'black', 'yellow', 'orange']\n",
    "\n",
    "for i, c in enumerate(centers):\n",
    "    for location in centers[c]:\n",
    "        plt.scatter(*location, c=color[i])\n",
    "        \n",
    "for center in cluster.cluster_centers_:\n",
    "    plt.scatter(*center, s=100)    "
   ]
  },
  {
   "cell_type": "markdown",
   "metadata": {},
   "source": [
    "## Part-2 Question and Answer 问答"
   ]
  },
  {
   "cell_type": "markdown",
   "metadata": {},
   "source": [
    "#### 1. What's the *model*? why  all the models are wrong, but some are useful? (5 points) "
   ]
  },
  {
   "cell_type": "markdown",
   "metadata": {},
   "source": [
    "Ans:\n",
    "Model是数据进行训练后得到的一种函数\n",
    "models不能够完全精确的解决所有的问题，它是存在误差的，但是不够完美的Model能够解决大多数实际问题"
   ]
  },
  {
   "cell_type": "markdown",
   "metadata": {},
   "source": [
    "<评阅点>\n",
    "> + 对模型的理解是否正确,对模型的抽象性是否正确(5')"
   ]
  },
  {
   "cell_type": "markdown",
   "metadata": {},
   "source": [
    "#### 2. What's the underfitting and overfitting? List the reasons that could make model overfitting or underfitting. (10 points)"
   ]
  },
  {
   "cell_type": "markdown",
   "metadata": {},
   "source": [
    "Ans:\n",
    "overfitting：函数会完美拟合训练数据，误差比较小，但是一旦有新的数据，函数也会跟着发生较大变化。 bias比较低，variance比较高\n",
    "underfitting：函数与训练数据误差比较大，数据发生变化后，函数不用发生变化，bias比较高，variance比较低\n"
   ]
  },
  {
   "cell_type": "markdown",
   "metadata": {},
   "source": [
    "<评阅点>\n",
    "> + 对过拟合和欠拟合的理解是否正确 (3')\n",
    "+ 对欠拟合产生的原因是否理解正确(2')\n",
    "+ 对过拟合产生的原因是否理解正确(5')"
   ]
  },
  {
   "cell_type": "markdown",
   "metadata": {},
   "source": [
    "#### 3. What's the precision, recall, AUC, F1, F2score. What are they mainly target on? (12')"
   ]
  },
  {
   "cell_type": "markdown",
   "metadata": {},
   "source": [
    "Ans:"
   ]
  },
  {
   "cell_type": "markdown",
   "metadata": {},
   "source": [
    "<评阅点>\n",
    "> + 对precision, recall, AUC, F1, F2 理解是否正确(6‘)\n",
    "+ 对precision, recall, AUC, F1, F2的使用侧重点是否理解正确 (6’)"
   ]
  },
  {
   "cell_type": "code",
   "execution_count": 133,
   "metadata": {},
   "outputs": [
    {
     "ename": "SyntaxError",
     "evalue": "invalid syntax (<ipython-input-133-f10b307bb678>, line 1)",
     "output_type": "error",
     "traceback": [
      "\u001b[0;36m  File \u001b[0;32m\"<ipython-input-133-f10b307bb678>\"\u001b[0;36m, line \u001b[0;32m1\u001b[0m\n\u001b[0;31m    > + Precision：所有预测是A 且预测正确的个数 / 所有预测结果是A的个数\u001b[0m\n\u001b[0m    ^\u001b[0m\n\u001b[0;31mSyntaxError\u001b[0m\u001b[0;31m:\u001b[0m invalid syntax\n"
     ]
    }
   ],
   "source": [
    "Precision：所有预测是A 且预测正确的个数 / 所有预测结果是A的个数\n",
    "recall: 所有预测是A且正确的个数 / 所有结果是A的个数\n",
    "AUC： 随着预测准确把握程度的增长，准确度的变化\n",
    "F1 Score：平衡precision和recall; F1 score = 2 * precision * recall / (precision + recall)\n",
    "F2 Score: F1 score = 5 * precision * recall / 4 * (precision + recall)\n",
    "    当精确率更重要，使用F1 Score，如果召回率更重要，使用F2 Score"
   ]
  },
  {
   "cell_type": "markdown",
   "metadata": {},
   "source": [
    "#### 4. Based on our course and yourself mind, what's the machine learning?  (8')"
   ]
  },
  {
   "cell_type": "markdown",
   "metadata": {},
   "source": [
    "Ans: 函数是可以通过训练和学习得到，有新的数据能够自动预测结果，程序员不用加班改规则了"
   ]
  },
  {
   "cell_type": "markdown",
   "metadata": {},
   "source": [
    "<评阅点> 开放式问题，是否能说出来机器学习这种思维方式和传统的分析式编程的区别（8'）"
   ]
  },
  {
   "cell_type": "markdown",
   "metadata": {},
   "source": [
    "#### 5. \"正确定义了机器学习模型的评价标准(evaluation)， 问题基本上就已经解决一半\". 这句话是否正确？你是怎么看待的？ (8‘)"
   ]
  },
  {
   "cell_type": "code",
   "execution_count": null,
   "metadata": {},
   "outputs": [],
   "source": [
    "没有毛病，没有100%完美的模型能够符合所有的评判标准，有了评判标准作为方向，在设计模型的时候就有侧重点"
   ]
  },
  {
   "cell_type": "markdown",
   "metadata": {},
   "source": [
    "<评阅点> 开放式问题，主要看能理解评价指标对机器学习模型的重要性."
   ]
  },
  {
   "cell_type": "markdown",
   "metadata": {},
   "source": [
    "## Part-03 Programming Practice 编程练习"
   ]
  },
  {
   "cell_type": "markdown",
   "metadata": {},
   "source": [
    "1. In our course and previous practice, we complete some importance components of Decision Tree. In this problem, you need to build a **completed** Decision Tree Model. You show finish a `predicate()` function, which accepts three parameters **<gender, income, family_number>**, and outputs the predicated 'bought': 1 or 0.  (20 points)"
   ]
  },
  {
   "cell_type": "code",
   "execution_count": 243,
   "metadata": {},
   "outputs": [
    {
     "name": "stdout",
     "output_type": "stream",
     "text": [
      "optimal_feature is: ['pet', 'family_number', 'income', 'gender']\n",
      "spliter_map is: [('pet', 1, -0.0), ('pet', 0, -0.0), ('family_number', 1, 0.6730116670092565), ('family_number', 2, 0.6730116670092565), ('income', '-10', 0.6730116670092565), ('income', '+10', 0.6730116670092565), ('gender', 'M', 1.198849312913621), ('gender', 'F', 1.198849312913621)]\n"
     ]
    },
    {
     "data": {
      "text/plain": [
       "(['pet', 'family_number', 'income', 'gender'],\n",
       " [('pet', 1, -0.0),\n",
       "  ('pet', 0, -0.0),\n",
       "  ('family_number', 1, 0.6730116670092565),\n",
       "  ('family_number', 2, 0.6730116670092565),\n",
       "  ('income', '-10', 0.6730116670092565),\n",
       "  ('income', '+10', 0.6730116670092565),\n",
       "  ('gender', 'M', 1.198849312913621),\n",
       "  ('gender', 'F', 1.198849312913621)])"
      ]
     },
     "execution_count": 243,
     "metadata": {},
     "output_type": "execute_result"
    }
   ],
   "source": [
    "# you code here\n",
    "mock_data = {\n",
    "    'gender':['F', 'F', 'F', 'F', 'M', 'M', 'M'],\n",
    "    'income': ['+10', '-10', '+10', '+10', '+10', '+10', '-10'],\n",
    "    'family_number': [1, 1, 2, 1, 1, 1, 2],\n",
    "    'pet': [1, 1, 1, 0, 0, 0, 1],\n",
    "    'bought': [1, 1, 1, 0, 0, 0, 1],\n",
    "}\n",
    "import pandas as pd\n",
    "dataset = pd.DataFrame.from_dict(mock_data)\n",
    "dataset\n",
    "\n",
    "def entropy(elements):\n",
    "    '''群体的混乱程度'''\n",
    "    counter = Counter(elements)\n",
    "    probs = [counter[c] / len(elements) for c in set(elements)]\n",
    "#     ic(probs)\n",
    "    return - sum(p * np.log(p) for p in probs)\n",
    "\n",
    "# 找到最佳属性\n",
    "def find_optimal_spliter (training_data: pd.DataFrame, target:str) -> str:\n",
    "    x_field = set(training_data.columns.tolist()) - {target} \n",
    "    spliter = None\n",
    "    spliter_map = set()\n",
    "    min_entropy = float('inf')\n",
    "    for field in x_field:\n",
    "        values = set(training_data[field])\n",
    "        for v in values:\n",
    "            sub_spliter_1 = training_data[training_data[field] == v][target].tolist()\n",
    "            sub_spliter_2 = training_data[training_data[field] != v][target].tolist()            \n",
    "            entropy_v = entropy(sub_spliter_1) + entropy(sub_spliter_2)\n",
    "#             d = {}\n",
    "#             d[field] = (field, v, entropy_v)\n",
    "\n",
    "            spliter_map = spliter_map | {(field, v, entropy_v)} \n",
    "\n",
    "            if entropy_v <= min_entropy:\n",
    "                min_entropy = entropy_v\n",
    "                spliter = (field, v)\n",
    "    spliter_map = sorted(spliter_map, key=lambda x: x[2])\n",
    "\n",
    "    optimal_feature = []\n",
    "    for i in spliter_map:\n",
    "        if i[0] not in optimal_feature:\n",
    "            optimal_feature.append(i[0])\n",
    "        \n",
    "    print('optimal_feature is: {}'.format(optimal_feature))\n",
    "    print('spliter_map is: {}'.format(spliter_map))\n",
    "#     print('spliter is: {}'.format(spliter))\n",
    "#     print('the min entropy is: {}'.format(min_entropy))\n",
    "    return optimal_feature, spliter_map\n",
    "\n",
    "\n",
    "find_optimal_spliter(training_data = dataset, target='bought')    \n",
    "    "
   ]
  },
  {
   "cell_type": "code",
   "execution_count": 266,
   "metadata": {},
   "outputs": [
    {
     "data": {
      "text/plain": [
       "{'family_number': {1: 0.4, 2: 1.0},\n",
       " 'pet': {0: 0.0, 1: 1.0},\n",
       " 'gender': {'F': 0.75, 'M': 0.3333333333333333},\n",
       " 'income': {'-10': 1.0, '+10': 0.4}}"
      ]
     },
     "execution_count": 266,
     "metadata": {},
     "output_type": "execute_result"
    }
   ],
   "source": [
    "def feature_probs_in_traning_data(training_data: pd.DataFrame,target:str):\n",
    "    x_field = set(training_data.columns.tolist()) - {target} ;\n",
    "    feature_probs = dict()\n",
    "    for field in x_field:\n",
    "        values = set(training_data[field])\n",
    "        for v in values:\n",
    "            sub_spliter_1 = training_data[training_data[field] == v][target].tolist()\n",
    "            probs = sub_spliter_1.count(1) / len(sub_spliter_1)\n",
    "\n",
    "            if field not in feature_probs:\n",
    "                feature_probs[field] = dict()\n",
    "            feature_probs[field][v] = probs\n",
    "#     print('feature_probs', feature_probs)\n",
    "    return feature_probs\n",
    "\n",
    "\n",
    "#训练数据中每种属性对应结果的概率        \n",
    "feature_probs_in_traning_data(training_data = dataset, target='bought')"
   ]
  },
  {
   "cell_type": "code",
   "execution_count": 320,
   "metadata": {},
   "outputs": [
    {
     "name": "stdout",
     "output_type": "stream",
     "text": [
      "optimal_feature is: ['pet', 'family_number', 'income', 'gender']\n",
      "spliter_map is: [('pet', 1, -0.0), ('pet', 0, -0.0), ('family_number', 1, 0.6730116670092565), ('family_number', 2, 0.6730116670092565), ('income', '-10', 0.6730116670092565), ('income', '+10', 0.6730116670092565), ('gender', 'M', 1.198849312913621), ('gender', 'F', 1.198849312913621)]\n",
      "feature family_number {1: 0.4, 2: 1.0} 1.0\n"
     ]
    },
    {
     "data": {
      "text/plain": [
       "1"
      ]
     },
     "execution_count": 320,
     "metadata": {},
     "output_type": "execute_result"
    }
   ],
   "source": [
    "test_data = {\n",
    "    'gender':'M',\n",
    "    'income':'+10',\n",
    "    'family_number': 2\n",
    "}\n",
    "def decistion_tree_model(data, target: str):\n",
    "    optimal_spliter, spliter_map = find_optimal_spliter(training_data = dataset, target=target)    \n",
    "    feature_probs = feature_probs_in_traning_data(training_data = dataset, target=target)\n",
    "#     def \n",
    "    prob = 0\n",
    "    for feature in optimal_spliter:        \n",
    "        if feature in data:\n",
    "            print('feature',feature, feature_probs[feature], feature_probs[feature][data[feature]])\n",
    "            # 发生的概率\n",
    "            if feature_probs[feature][data[feature]] == 1:\n",
    "                return 1\n",
    "                break\n",
    "            elif feature_probs[feature][data[feature]] == 0:\n",
    "                return 0\n",
    "                break\n",
    "            else:\n",
    "                prob = feature_probs[feature][data[feature]]\n",
    "#             elif feature_probs[feature][data[feature]] > prob:\n",
    "#               # 取较大的概率\n",
    "#                 prob = feature_probs[feature][data[feature]]\n",
    "    return prob \n",
    "  \n",
    "decistion_tree_model(test_data, target = 'bought')"
   ]
  },
  {
   "cell_type": "code",
   "execution_count": null,
   "metadata": {},
   "outputs": [],
   "source": []
  },
  {
   "cell_type": "markdown",
   "metadata": {},
   "source": [
    "<评阅点>\n",
    "> + 是否将之前的决策树模型的部分进行合并组装， predicate函数能够顺利运行(8')\n",
    "+ 是够能够输入未曾见过的X变量，例如gender, income, family_number 分别是： <M, -10, 1>, 模型能够预测出结果 (12')"
   ]
  },
  {
   "cell_type": "markdown",
   "metadata": {},
   "source": [
    "2. 将上一节课(第二节课)的线性回归问题中的Loss函数改成\"绝对值\"，并且改变其偏导的求值方式，观察其结果的变化。(19 point)"
   ]
  },
  {
   "cell_type": "code",
   "execution_count": 5,
   "metadata": {},
   "outputs": [],
   "source": [
    "# you code here"
   ]
  },
  {
   "cell_type": "markdown",
   "metadata": {},
   "source": [
    "<评阅点>\n",
    "+ 是否将Loss改成了“绝对值”(3')\n",
    "+ 是否完成了偏导的重新定义(5')\n",
    "+ 新的模型Loss是否能够收敛 (11’)"
   ]
  },
  {
   "cell_type": "markdown",
   "metadata": {},
   "source": []
  }
 ],
 "metadata": {
  "kernelspec": {
   "display_name": "Python 3",
   "language": "python",
   "name": "python3"
  },
  "language_info": {
   "codemirror_mode": {
    "name": "ipython",
    "version": 3
   },
   "file_extension": ".py",
   "mimetype": "text/x-python",
   "name": "python",
   "nbconvert_exporter": "python",
   "pygments_lexer": "ipython3",
   "version": "3.6.5"
  }
 },
 "nbformat": 4,
 "nbformat_minor": 2
}
