{
 "cells": [
  {
   "cell_type": "markdown",
   "metadata": {},
   "source": [
    "# Assignment 6"
   ]
  },
  {
   "cell_type": "markdown",
   "metadata": {},
   "source": [
    "### 1.复习上课内容以及复现课程代码"
   ]
  },
  {
   "cell_type": "markdown",
   "metadata": {},
   "source": [
    "在本部分，你需要复习上课内容和课程代码后，自己复现课程代码。"
   ]
  },
  {
   "cell_type": "code",
   "execution_count": 1,
   "metadata": {},
   "outputs": [],
   "source": [
    "from __future__ import absolute_import,division,print_function,unicode_literals\n",
    "import os\n",
    "\n",
    "try:\n",
    "    %tensorflow_version 2.x\n",
    "except Exception:\n",
    "    pass\n",
    "\n",
    "import tensorflow as tf\n",
    "import cProfile"
   ]
  },
  {
   "cell_type": "code",
   "execution_count": 2,
   "metadata": {},
   "outputs": [
    {
     "data": {
      "text/plain": [
       "True"
      ]
     },
     "execution_count": 2,
     "metadata": {},
     "output_type": "execute_result"
    }
   ],
   "source": [
    "# 检测是否是当前需要的\n",
    "tf.executing_eagerly()"
   ]
  },
  {
   "cell_type": "code",
   "execution_count": 3,
   "metadata": {},
   "outputs": [
    {
     "name": "stdout",
     "output_type": "stream",
     "text": [
      "x matumal x =[[4.]]\n"
     ]
    }
   ],
   "source": [
    "x=[[2.]]\n",
    "m=tf.matmul(x,x) # 多维矩阵相乘\n",
    "print('x matumal x ={}'.format(m))"
   ]
  },
  {
   "cell_type": "code",
   "execution_count": 4,
   "metadata": {},
   "outputs": [
    {
     "name": "stdout",
     "output_type": "stream",
     "text": [
      "tf.Tensor(\n",
      "[[1 2]\n",
      " [3 4]], shape=(2, 2), dtype=int32)\n"
     ]
    }
   ],
   "source": [
    "#Tensor\n",
    "a=tf.constant([[1,2],\n",
    "              [3,4]])\n",
    "print(a)"
   ]
  },
  {
   "cell_type": "code",
   "execution_count": 5,
   "metadata": {},
   "outputs": [
    {
     "name": "stdout",
     "output_type": "stream",
     "text": [
      "tf.Tensor(\n",
      "[[2 3]\n",
      " [4 5]], shape=(2, 2), dtype=int32)\n"
     ]
    }
   ],
   "source": [
    "#Returns x + y element-wise. 每个元素上都相加\n",
    "b=tf.add(a,1)\n",
    "print(b)"
   ]
  },
  {
   "cell_type": "code",
   "execution_count": 6,
   "metadata": {},
   "outputs": [
    {
     "name": "stdout",
     "output_type": "stream",
     "text": [
      "tf.Tensor(\n",
      "[[ 2  6]\n",
      " [12 20]], shape=(2, 2), dtype=int32)\n"
     ]
    }
   ],
   "source": [
    "print(a*b) # element-wise multiplication"
   ]
  },
  {
   "cell_type": "code",
   "execution_count": 7,
   "metadata": {},
   "outputs": [
    {
     "name": "stdout",
     "output_type": "stream",
     "text": [
      "tf.Tensor(\n",
      "[[10 13]\n",
      " [22 29]], shape=(2, 2), dtype=int32)\n"
     ]
    }
   ],
   "source": [
    "print(tf.matmul(a,b)) # 矩阵相乘"
   ]
  },
  {
   "cell_type": "code",
   "execution_count": 8,
   "metadata": {},
   "outputs": [
    {
     "name": "stdout",
     "output_type": "stream",
     "text": [
      "[[ 2  6]\n",
      " [12 20]]\n"
     ]
    }
   ],
   "source": [
    "import numpy as np\n",
    "c=np.multiply(a,b)\n",
    "print(c)"
   ]
  },
  {
   "cell_type": "code",
   "execution_count": 9,
   "metadata": {},
   "outputs": [
    {
     "name": "stdout",
     "output_type": "stream",
     "text": [
      "[[1 2]\n",
      " [3 4]]\n"
     ]
    }
   ],
   "source": [
    "print(a.numpy()) # tensor 转换成numpy array"
   ]
  },
  {
   "cell_type": "code",
   "execution_count": 10,
   "metadata": {},
   "outputs": [
    {
     "name": "stdout",
     "output_type": "stream",
     "text": [
      "tf.Tensor([[2.]], shape=(1, 1), dtype=float32)\n"
     ]
    }
   ],
   "source": [
    "# 自动计算梯度\n",
    "w=tf.Variable([[1.0]]) #初始变量\n",
    "#with等同于 tray except finally\n",
    "with tf.GradientTape() as tape: # 记录自动差异\n",
    "    loss = w*w #TODO:?\n",
    "grad = tape.gradient(loss,w)   \n",
    "print(grad)"
   ]
  },
  {
   "cell_type": "code",
   "execution_count": 11,
   "metadata": {},
   "outputs": [
    {
     "name": "stdout",
     "output_type": "stream",
     "text": [
      "x_train (60000, 28, 28)\n",
      "y_train (60000,)\n"
     ]
    }
   ],
   "source": [
    "#训练模型\n",
    "import pandas as pd\n",
    "filename='/Users/xiangjiejie/Mayday/AIStudy/lecture6/mnist.npz'\n",
    "# filename = './mnist.npz'\n",
    "\n",
    "(x_train,y_train),(x_test,y_test)=tf.keras.datasets.mnist.load_data(filename)\n",
    "print('x_train',x_train.shape)\n",
    "print('y_train',y_train.shape)\n",
    "x_train=x_train[:10000,:,:]\n",
    "y_train=y_train[:10000]\n",
    "x_test=x_test[:10000,:,:]\n",
    "t_test=y_test[:10000]"
   ]
  },
  {
   "cell_type": "code",
   "execution_count": 12,
   "metadata": {},
   "outputs": [
    {
     "name": "stdout",
     "output_type": "stream",
     "text": [
      "(10000, 28, 28) (10000,)\n",
      "(10000, 28, 28, 1) (10000,)\n",
      "(10000, 28, 28, 1) (10000, 10)\n"
     ]
    }
   ],
   "source": [
    "# 对每个维度上进行归一化\n",
    "print(x_train.shape,y_train.shape)\n",
    "x_train=tf.cast(x_train[...,tf.newaxis]/255, tf.float32)\n",
    "x_test = tf.cast(x_test[...,tf.newaxis]/255, tf.float32)\n",
    "print(x_train.shape,y_train.shape)\n",
    "# TODO:增加维度\n",
    "\n",
    "# 转换成one-hot\n",
    "y_train=tf.keras.utils.to_categorical(y_train,10) #转换向量类型为二进制类矩阵\n",
    "y_test=tf.keras.utils.to_categorical(y_test,10)\n",
    "print(x_train.shape,y_train.shape)"
   ]
  },
  {
   "cell_type": "code",
   "execution_count": 13,
   "metadata": {},
   "outputs": [],
   "source": [
    "# 建网络写法1\n",
    "# 线性叠加层\n",
    "mnist_model=tf.keras.Sequential([\n",
    "#     二维卷积，filter卷积核个数,卷积核大小，激活函数，输入矩阵\n",
    "    tf.keras.layers.Conv2D(32,[3,3], activation='relu',input_shape=(28,28,1)),\n",
    "    tf.keras.layers.Conv2D(64,[3,3],activation='relu'),\n",
    "    tf.keras.layers.MaxPooling2D(pool_size=(2,2)),\n",
    "#     随机去掉一些点\n",
    "    tf.keras.layers.Dropout(0.25),\n",
    "#     压平，把多维的输入一维化，卷积层到全连接层的过度\n",
    "    tf.keras.layers.Flatten(),\n",
    "#     输出128个维度,TODO:?\n",
    "    tf.keras.layers.Dense(128, activation='relu'),\n",
    "#     去过拟合随机概率\n",
    "    tf.keras.layers.Dropout(0.5),\n",
    "#     输出10个维度\n",
    "    tf.keras.layers.Dense(10,activation='softmax')\n",
    "    \n",
    "])"
   ]
  },
  {
   "cell_type": "code",
   "execution_count": 14,
   "metadata": {},
   "outputs": [
    {
     "name": "stdout",
     "output_type": "stream",
     "text": [
      "Model: \"sequential\"\n",
      "_________________________________________________________________\n",
      "Layer (type)                 Output Shape              Param #   \n",
      "=================================================================\n",
      "conv2d (Conv2D)              (None, 26, 26, 32)        320       \n",
      "_________________________________________________________________\n",
      "conv2d_1 (Conv2D)            (None, 24, 24, 64)        18496     \n",
      "_________________________________________________________________\n",
      "max_pooling2d (MaxPooling2D) (None, 12, 12, 64)        0         \n",
      "_________________________________________________________________\n",
      "dropout (Dropout)            (None, 12, 12, 64)        0         \n",
      "_________________________________________________________________\n",
      "flatten (Flatten)            (None, 9216)              0         \n",
      "_________________________________________________________________\n",
      "dense (Dense)                (None, 128)               1179776   \n",
      "_________________________________________________________________\n",
      "dropout_1 (Dropout)          (None, 128)               0         \n",
      "_________________________________________________________________\n",
      "dense_1 (Dense)              (None, 10)                1290      \n",
      "=================================================================\n",
      "Total params: 1,199,882\n",
      "Trainable params: 1,199,882\n",
      "Non-trainable params: 0\n",
      "_________________________________________________________________\n"
     ]
    }
   ],
   "source": [
    "mnist_model.summary()"
   ]
  },
  {
   "cell_type": "code",
   "execution_count": 15,
   "metadata": {},
   "outputs": [],
   "source": [
    "# 建网络写法2\n",
    "# 实例化一个张量\n",
    "inputs=tf.keras.Input(shape=(None,None,1),name='digits')\n",
    "conv_1=tf.keras.layers.Conv2D(16,[3,3],activation='relu')(inputs)\n",
    "conv_2=tf.keras.layers.Conv2D(16,[3,3],activation='relu')(conv_1)\n",
    "# 平均池化\n",
    "ave_pool=tf.keras.layers.GlobalAveragePooling2D()(conv_2)\n",
    "# 输出10个维度\n",
    "outputs=tf.keras.layers.Dense(10)(ave_pool)\n",
    "mnist_model_2=tf.keras.Model(inputs=inputs,outputs=outputs)"
   ]
  },
  {
   "cell_type": "code",
   "execution_count": 16,
   "metadata": {},
   "outputs": [
    {
     "name": "stdout",
     "output_type": "stream",
     "text": [
      "Model: \"model\"\n",
      "_________________________________________________________________\n",
      "Layer (type)                 Output Shape              Param #   \n",
      "=================================================================\n",
      "digits (InputLayer)          [(None, None, None, 1)]   0         \n",
      "_________________________________________________________________\n",
      "conv2d_2 (Conv2D)            (None, None, None, 16)    160       \n",
      "_________________________________________________________________\n",
      "conv2d_3 (Conv2D)            (None, None, None, 16)    2320      \n",
      "_________________________________________________________________\n",
      "global_average_pooling2d (Gl (None, 16)                0         \n",
      "_________________________________________________________________\n",
      "dense_2 (Dense)              (None, 10)                170       \n",
      "=================================================================\n",
      "Total params: 2,650\n",
      "Trainable params: 2,650\n",
      "Non-trainable params: 0\n",
      "_________________________________________________________________\n"
     ]
    }
   ],
   "source": [
    "mnist_model_2.summary()"
   ]
  },
  {
   "cell_type": "code",
   "execution_count": 17,
   "metadata": {},
   "outputs": [],
   "source": [
    "mnist_model.compile(\n",
    "#     优化\n",
    "    optimizer=tf.keras.optimizers.SGD(learning_rate=1e-3), \n",
    "#     损失函数，分类交叉熵\n",
    "                   loss = tf.keras.losses.categorical_crossentropy,\n",
    "#     度量方式：精确度\n",
    "                   metrics = [\"accuracy\"])"
   ]
  },
  {
   "cell_type": "code",
   "execution_count": 18,
   "metadata": {},
   "outputs": [],
   "source": [
    "mnist_model_2.compile(loss = tf.keras.losses.categorical_crossentropy,\n",
    "                      optimizer=tf.keras.optimizers.Adam(),\n",
    "                     metrics=[\"accuracy\"])"
   ]
  },
  {
   "cell_type": "code",
   "execution_count": 19,
   "metadata": {},
   "outputs": [
    {
     "name": "stdout",
     "output_type": "stream",
     "text": [
      "Train on 9000 samples, validate on 1000 samples\n",
      "Epoch 1/3\n",
      "9000/9000 [==============================] - 8s 880us/sample - loss: 2.3054 - accuracy: 0.1051 - val_loss: 2.2986 - val_accuracy: 0.1510\n",
      "Epoch 2/3\n",
      "9000/9000 [==============================] - 7s 805us/sample - loss: 2.2962 - accuracy: 0.1232 - val_loss: 2.2873 - val_accuracy: 0.1770\n",
      "Epoch 3/3\n",
      "9000/9000 [==============================] - 7s 763us/sample - loss: 2.2855 - accuracy: 0.1484 - val_loss: 2.2757 - val_accuracy: 0.1970\n"
     ]
    }
   ],
   "source": [
    "# 训练模型数据\n",
    "# validation_split 数据分类，shuffle打乱\n",
    "data=mnist_model.fit(x_train,y_train,batch_size=128,epochs=3, validation_split=0.1,shuffle=True)"
   ]
  },
  {
   "cell_type": "code",
   "execution_count": 20,
   "metadata": {},
   "outputs": [],
   "source": [
    "# mnist_model_2.fit(x_train,y_train,batch_size=128,epochs=3, validation_split=0.1,shuffle=True)"
   ]
  },
  {
   "cell_type": "code",
   "execution_count": 21,
   "metadata": {},
   "outputs": [
    {
     "name": "stdout",
     "output_type": "stream",
     "text": [
      "(10000, 28, 28, 1)\n",
      "(10000, 28, 28, 1, 1)\n"
     ]
    },
    {
     "ename": "ValueError",
     "evalue": "Error when checking input: expected conv2d_input to have 4 dimensions, but got array with shape (10000, 28, 28, 1, 1)",
     "output_type": "error",
     "traceback": [
      "\u001b[0;31m---------------------------------------------------------------------------\u001b[0m",
      "\u001b[0;31mValueError\u001b[0m                                Traceback (most recent call last)",
      "\u001b[0;32m<ipython-input-21-ee989f121cf7>\u001b[0m in \u001b[0;36m<module>\u001b[0;34m\u001b[0m\n\u001b[1;32m      3\u001b[0m \u001b[0mtest_label\u001b[0m\u001b[0;34m=\u001b[0m\u001b[0mtf\u001b[0m\u001b[0;34m.\u001b[0m\u001b[0mkeras\u001b[0m\u001b[0;34m.\u001b[0m\u001b[0mutils\u001b[0m\u001b[0;34m.\u001b[0m\u001b[0mto_categorical\u001b[0m\u001b[0;34m(\u001b[0m\u001b[0my_test\u001b[0m\u001b[0;34m,\u001b[0m\u001b[0;36m10\u001b[0m\u001b[0;34m)\u001b[0m\u001b[0;34m\u001b[0m\u001b[0m\n\u001b[1;32m      4\u001b[0m \u001b[0mprint\u001b[0m\u001b[0;34m(\u001b[0m\u001b[0mtest_image\u001b[0m\u001b[0;34m.\u001b[0m\u001b[0mshape\u001b[0m\u001b[0;34m)\u001b[0m\u001b[0;34m\u001b[0m\u001b[0m\n\u001b[0;32m----> 5\u001b[0;31m \u001b[0mtest_loss\u001b[0m\u001b[0;34m,\u001b[0m \u001b[0mtest_acc\u001b[0m \u001b[0;34m=\u001b[0m \u001b[0mmnist_model\u001b[0m\u001b[0;34m.\u001b[0m\u001b[0mevaluate\u001b[0m\u001b[0;34m(\u001b[0m\u001b[0mtest_image\u001b[0m\u001b[0;34m,\u001b[0m  \u001b[0mtest_label\u001b[0m\u001b[0;34m,\u001b[0m \u001b[0mverbose\u001b[0m\u001b[0;34m=\u001b[0m\u001b[0;36m2\u001b[0m\u001b[0;34m)\u001b[0m\u001b[0;34m\u001b[0m\u001b[0m\n\u001b[0m",
      "\u001b[0;32m/Library/Frameworks/Python.framework/Versions/3.6/lib/python3.6/site-packages/tensorflow_core/python/keras/engine/training.py\u001b[0m in \u001b[0;36mevaluate\u001b[0;34m(self, x, y, batch_size, verbose, sample_weight, steps, callbacks, max_queue_size, workers, use_multiprocessing)\u001b[0m\n\u001b[1;32m    928\u001b[0m         \u001b[0mmax_queue_size\u001b[0m\u001b[0;34m=\u001b[0m\u001b[0mmax_queue_size\u001b[0m\u001b[0;34m,\u001b[0m\u001b[0;34m\u001b[0m\u001b[0m\n\u001b[1;32m    929\u001b[0m         \u001b[0mworkers\u001b[0m\u001b[0;34m=\u001b[0m\u001b[0mworkers\u001b[0m\u001b[0;34m,\u001b[0m\u001b[0;34m\u001b[0m\u001b[0m\n\u001b[0;32m--> 930\u001b[0;31m         use_multiprocessing=use_multiprocessing)\n\u001b[0m\u001b[1;32m    931\u001b[0m \u001b[0;34m\u001b[0m\u001b[0m\n\u001b[1;32m    932\u001b[0m   def predict(self,\n",
      "\u001b[0;32m/Library/Frameworks/Python.framework/Versions/3.6/lib/python3.6/site-packages/tensorflow_core/python/keras/engine/training_v2.py\u001b[0m in \u001b[0;36mevaluate\u001b[0;34m(self, model, x, y, batch_size, verbose, sample_weight, steps, callbacks, max_queue_size, workers, use_multiprocessing, **kwargs)\u001b[0m\n\u001b[1;32m    488\u001b[0m         \u001b[0msample_weight\u001b[0m\u001b[0;34m=\u001b[0m\u001b[0msample_weight\u001b[0m\u001b[0;34m,\u001b[0m \u001b[0msteps\u001b[0m\u001b[0;34m=\u001b[0m\u001b[0msteps\u001b[0m\u001b[0;34m,\u001b[0m \u001b[0mcallbacks\u001b[0m\u001b[0;34m=\u001b[0m\u001b[0mcallbacks\u001b[0m\u001b[0;34m,\u001b[0m\u001b[0;34m\u001b[0m\u001b[0m\n\u001b[1;32m    489\u001b[0m         \u001b[0mmax_queue_size\u001b[0m\u001b[0;34m=\u001b[0m\u001b[0mmax_queue_size\u001b[0m\u001b[0;34m,\u001b[0m \u001b[0mworkers\u001b[0m\u001b[0;34m=\u001b[0m\u001b[0mworkers\u001b[0m\u001b[0;34m,\u001b[0m\u001b[0;34m\u001b[0m\u001b[0m\n\u001b[0;32m--> 490\u001b[0;31m         use_multiprocessing=use_multiprocessing, **kwargs)\n\u001b[0m\u001b[1;32m    491\u001b[0m \u001b[0;34m\u001b[0m\u001b[0m\n\u001b[1;32m    492\u001b[0m   def predict(self, model, x, batch_size=None, verbose=0, steps=None,\n",
      "\u001b[0;32m/Library/Frameworks/Python.framework/Versions/3.6/lib/python3.6/site-packages/tensorflow_core/python/keras/engine/training_v2.py\u001b[0m in \u001b[0;36m_model_iteration\u001b[0;34m(self, model, mode, x, y, batch_size, verbose, sample_weight, steps, callbacks, max_queue_size, workers, use_multiprocessing, **kwargs)\u001b[0m\n\u001b[1;32m    424\u001b[0m           \u001b[0mmax_queue_size\u001b[0m\u001b[0;34m=\u001b[0m\u001b[0mmax_queue_size\u001b[0m\u001b[0;34m,\u001b[0m\u001b[0;34m\u001b[0m\u001b[0m\n\u001b[1;32m    425\u001b[0m           \u001b[0mworkers\u001b[0m\u001b[0;34m=\u001b[0m\u001b[0mworkers\u001b[0m\u001b[0;34m,\u001b[0m\u001b[0;34m\u001b[0m\u001b[0m\n\u001b[0;32m--> 426\u001b[0;31m           use_multiprocessing=use_multiprocessing)\n\u001b[0m\u001b[1;32m    427\u001b[0m       \u001b[0mtotal_samples\u001b[0m \u001b[0;34m=\u001b[0m \u001b[0m_get_total_number_of_samples\u001b[0m\u001b[0;34m(\u001b[0m\u001b[0madapter\u001b[0m\u001b[0;34m)\u001b[0m\u001b[0;34m\u001b[0m\u001b[0m\n\u001b[1;32m    428\u001b[0m       \u001b[0muse_sample\u001b[0m \u001b[0;34m=\u001b[0m \u001b[0mtotal_samples\u001b[0m \u001b[0;32mis\u001b[0m \u001b[0;32mnot\u001b[0m \u001b[0;32mNone\u001b[0m\u001b[0;34m\u001b[0m\u001b[0m\n",
      "\u001b[0;32m/Library/Frameworks/Python.framework/Versions/3.6/lib/python3.6/site-packages/tensorflow_core/python/keras/engine/training_v2.py\u001b[0m in \u001b[0;36m_process_inputs\u001b[0;34m(model, mode, x, y, batch_size, epochs, sample_weights, class_weights, shuffle, steps, distribution_strategy, max_queue_size, workers, use_multiprocessing)\u001b[0m\n\u001b[1;32m    644\u001b[0m     \u001b[0mstandardize_function\u001b[0m \u001b[0;34m=\u001b[0m \u001b[0;32mNone\u001b[0m\u001b[0;34m\u001b[0m\u001b[0m\n\u001b[1;32m    645\u001b[0m     x, y, sample_weights = standardize(\n\u001b[0;32m--> 646\u001b[0;31m         x, y, sample_weight=sample_weights)\n\u001b[0m\u001b[1;32m    647\u001b[0m   \u001b[0;32melif\u001b[0m \u001b[0madapter_cls\u001b[0m \u001b[0;32mis\u001b[0m \u001b[0mdata_adapter\u001b[0m\u001b[0;34m.\u001b[0m\u001b[0mListsOfScalarsDataAdapter\u001b[0m\u001b[0;34m:\u001b[0m\u001b[0;34m\u001b[0m\u001b[0m\n\u001b[1;32m    648\u001b[0m     \u001b[0mstandardize_function\u001b[0m \u001b[0;34m=\u001b[0m \u001b[0mstandardize\u001b[0m\u001b[0;34m\u001b[0m\u001b[0m\n",
      "\u001b[0;32m/Library/Frameworks/Python.framework/Versions/3.6/lib/python3.6/site-packages/tensorflow_core/python/keras/engine/training.py\u001b[0m in \u001b[0;36m_standardize_user_data\u001b[0;34m(self, x, y, sample_weight, class_weight, batch_size, check_steps, steps_name, steps, validation_split, shuffle, extract_tensors_from_dataset)\u001b[0m\n\u001b[1;32m   2381\u001b[0m         \u001b[0mis_dataset\u001b[0m\u001b[0;34m=\u001b[0m\u001b[0mis_dataset\u001b[0m\u001b[0;34m,\u001b[0m\u001b[0;34m\u001b[0m\u001b[0m\n\u001b[1;32m   2382\u001b[0m         \u001b[0mclass_weight\u001b[0m\u001b[0;34m=\u001b[0m\u001b[0mclass_weight\u001b[0m\u001b[0;34m,\u001b[0m\u001b[0;34m\u001b[0m\u001b[0m\n\u001b[0;32m-> 2383\u001b[0;31m         batch_size=batch_size)\n\u001b[0m\u001b[1;32m   2384\u001b[0m \u001b[0;34m\u001b[0m\u001b[0m\n\u001b[1;32m   2385\u001b[0m   def _standardize_tensors(self, x, y, sample_weight, run_eagerly, dict_inputs,\n",
      "\u001b[0;32m/Library/Frameworks/Python.framework/Versions/3.6/lib/python3.6/site-packages/tensorflow_core/python/keras/engine/training.py\u001b[0m in \u001b[0;36m_standardize_tensors\u001b[0;34m(self, x, y, sample_weight, run_eagerly, dict_inputs, is_dataset, class_weight, batch_size)\u001b[0m\n\u001b[1;32m   2408\u001b[0m           \u001b[0mfeed_input_shapes\u001b[0m\u001b[0;34m,\u001b[0m\u001b[0;34m\u001b[0m\u001b[0m\n\u001b[1;32m   2409\u001b[0m           \u001b[0mcheck_batch_axis\u001b[0m\u001b[0;34m=\u001b[0m\u001b[0;32mFalse\u001b[0m\u001b[0;34m,\u001b[0m  \u001b[0;31m# Don't enforce the batch size.\u001b[0m\u001b[0;34m\u001b[0m\u001b[0m\n\u001b[0;32m-> 2410\u001b[0;31m           exception_prefix='input')\n\u001b[0m\u001b[1;32m   2411\u001b[0m \u001b[0;34m\u001b[0m\u001b[0m\n\u001b[1;32m   2412\u001b[0m     \u001b[0;31m# Get typespecs for the input data and sanitize it if necessary.\u001b[0m\u001b[0;34m\u001b[0m\u001b[0;34m\u001b[0m\u001b[0m\n",
      "\u001b[0;32m/Library/Frameworks/Python.framework/Versions/3.6/lib/python3.6/site-packages/tensorflow_core/python/keras/engine/training_utils.py\u001b[0m in \u001b[0;36mstandardize_input_data\u001b[0;34m(data, names, shapes, check_batch_axis, exception_prefix)\u001b[0m\n\u001b[1;32m    571\u001b[0m                            \u001b[0;34m': expected '\u001b[0m \u001b[0;34m+\u001b[0m \u001b[0mnames\u001b[0m\u001b[0;34m[\u001b[0m\u001b[0mi\u001b[0m\u001b[0;34m]\u001b[0m \u001b[0;34m+\u001b[0m \u001b[0;34m' to have '\u001b[0m \u001b[0;34m+\u001b[0m\u001b[0;34m\u001b[0m\u001b[0m\n\u001b[1;32m    572\u001b[0m                            \u001b[0mstr\u001b[0m\u001b[0;34m(\u001b[0m\u001b[0mlen\u001b[0m\u001b[0;34m(\u001b[0m\u001b[0mshape\u001b[0m\u001b[0;34m)\u001b[0m\u001b[0;34m)\u001b[0m \u001b[0;34m+\u001b[0m \u001b[0;34m' dimensions, but got array '\u001b[0m\u001b[0;34m\u001b[0m\u001b[0m\n\u001b[0;32m--> 573\u001b[0;31m                            'with shape ' + str(data_shape))\n\u001b[0m\u001b[1;32m    574\u001b[0m         \u001b[0;32mif\u001b[0m \u001b[0;32mnot\u001b[0m \u001b[0mcheck_batch_axis\u001b[0m\u001b[0;34m:\u001b[0m\u001b[0;34m\u001b[0m\u001b[0m\n\u001b[1;32m    575\u001b[0m           \u001b[0mdata_shape\u001b[0m \u001b[0;34m=\u001b[0m \u001b[0mdata_shape\u001b[0m\u001b[0;34m[\u001b[0m\u001b[0;36m1\u001b[0m\u001b[0;34m:\u001b[0m\u001b[0;34m]\u001b[0m\u001b[0;34m\u001b[0m\u001b[0m\n",
      "\u001b[0;31mValueError\u001b[0m: Error when checking input: expected conv2d_input to have 4 dimensions, but got array with shape (10000, 28, 28, 1, 1)"
     ]
    }
   ],
   "source": [
    "print(x_test.shape)\n",
    "test_image = tf.cast(x_test[...,tf.newaxis]/255, tf.float32)\n",
    "test_label=tf.keras.utils.to_categorical(y_test,10)\n",
    "print(test_image.shape)\n",
    "test_loss, test_acc = mnist_model.evaluate(test_image,  test_label, verbose=2)"
   ]
  },
  {
   "cell_type": "code",
   "execution_count": null,
   "metadata": {},
   "outputs": [],
   "source": []
  },
  {
   "cell_type": "code",
   "execution_count": null,
   "metadata": {},
   "outputs": [],
   "source": []
  },
  {
   "cell_type": "code",
   "execution_count": null,
   "metadata": {},
   "outputs": [],
   "source": []
  },
  {
   "cell_type": "code",
   "execution_count": null,
   "metadata": {},
   "outputs": [],
   "source": []
  },
  {
   "cell_type": "code",
   "execution_count": null,
   "metadata": {},
   "outputs": [],
   "source": []
  },
  {
   "cell_type": "markdown",
   "metadata": {},
   "source": [
    "### 2.回答以下理论题目?"
   ]
  },
  {
   "cell_type": "markdown",
   "metadata": {},
   "source": [
    "#### 1. Compared to FNN, what is the biggest advantage of CNN?"
   ]
  },
  {
   "cell_type": "markdown",
   "metadata": {},
   "source": [
    "CNN 参数共享，极大减少所需要的参数个数"
   ]
  },
  {
   "cell_type": "markdown",
   "metadata": {},
   "source": [
    "#### 2. Suppose your input is a 100 by 100 gray image, and you use a convolutional layer with 50 filters that are each 5x5. How many parameters does this hidden layer have (including the bias parameters)? "
   ]
  },
  {
   "cell_type": "markdown",
   "metadata": {},
   "source": [
    "94*94*50 * 2"
   ]
  },
  {
   "cell_type": "markdown",
   "metadata": {},
   "source": [
    "#### 3. What are \"local invariant\" and \"parameter sharing\" ?"
   ]
  },
  {
   "cell_type": "markdown",
   "metadata": {},
   "source": [
    "local invariant:平移不变性，图像识别到的内容平移到其他位置，也能够同样识别出来\n",
    "parameter shareing: 一个维度上图像信息共用一个卷积核来计算"
   ]
  },
  {
   "cell_type": "markdown",
   "metadata": {},
   "source": [
    "#### 4. Why we use batch normalization ?"
   ]
  },
  {
   "cell_type": "markdown",
   "metadata": {},
   "source": [
    "防止梯度消失或者爆炸"
   ]
  },
  {
   "cell_type": "markdown",
   "metadata": {},
   "source": [
    "#### 5. What problem does dropout try to solve ?"
   ]
  },
  {
   "cell_type": "markdown",
   "metadata": {},
   "source": [
    "解决训练过程过拟合现象，让预测数据更加接近真实"
   ]
  },
  {
   "cell_type": "markdown",
   "metadata": {},
   "source": [
    "#### 6.  Is the following statement correct and why ? \"Because pooling layers do not have parameters, they do not affect  the backpropagation(derivatives) calculation\""
   ]
  },
  {
   "cell_type": "markdown",
   "metadata": {},
   "source": [
    "pooling是提取特征的过程"
   ]
  },
  {
   "cell_type": "markdown",
   "metadata": {},
   "source": [
    "### 3. 实践题"
   ]
  },
  {
   "cell_type": "markdown",
   "metadata": {},
   "source": [
    "#### 3.1 In the first session of the practical part, you will implement an image classification model using any deep learning libraries that you are familiar with,  which means, except for tensorflow and keras, you can also use pytorch/caffe/... .  The dataset used in this session is the cifar10 which contains 50000 color (RGB) images, each with size 32x32x3.  All 50000 images are classified into ten categories. "
   ]
  },
  {
   "cell_type": "code",
   "execution_count": 2,
   "metadata": {},
   "outputs": [],
   "source": [
    "import tensorflow as tf\n",
    "import matplotlib.pyplot as plt"
   ]
  },
  {
   "cell_type": "markdown",
   "metadata": {},
   "source": [
    "Load the dataset. "
   ]
  },
  {
   "cell_type": "code",
   "execution_count": 3,
   "metadata": {},
   "outputs": [],
   "source": [
    "(train_images, train_labels), (test_images, test_labels) = tf.keras.datasets.cifar10.load_data()\n"
   ]
  },
  {
   "cell_type": "code",
   "execution_count": 4,
   "metadata": {},
   "outputs": [
    {
     "name": "stdout",
     "output_type": "stream",
     "text": [
      "(50000, 32, 32, 3) 50000\n"
     ]
    },
    {
     "data": {
      "image/png": "[encoded data removed]",
      "text/plain": [
       "<Figure size 432x288 with 10 Axes>"
      ]
     },
     "metadata": {},
     "output_type": "display_data"
    }
   ],
   "source": [
    "print(train_images.shape,len(train_images))\n",
    "for i in range(1,11):\n",
    "    plt.subplot(2,5,i)\n",
    "    plt.imshow(train_images[i-1])\n",
    "    plt.text(3,10,str(train_labels[i-1]))\n",
    "    plt.xticks([])\n",
    "    plt.yticks([])\n",
    "plt.show()"
   ]
  },
  {
   "cell_type": "markdown",
   "metadata": {},
   "source": [
    "##### It is your time to build your model. Try your best to build a model with good performance on the test set."
   ]
  },
  {
   "cell_type": "code",
   "execution_count": 6,
   "metadata": {},
   "outputs": [
    {
     "name": "stdout",
     "output_type": "stream",
     "text": [
      "(50000, 32, 32, 3) (50000, 1)\n",
      "(10000, 32, 32, 3) (10000, 1)\n"
     ]
    }
   ],
   "source": [
    "print(train_images.shape,train_labels.shape)\n",
    "print(test_images.shape,test_labels.shape)"
   ]
  },
  {
   "cell_type": "code",
   "execution_count": 10,
   "metadata": {},
   "outputs": [
    {
     "name": "stdout",
     "output_type": "stream",
     "text": [
      "a: (10000, 32, 32, 3) (10000, 1)\n"
     ]
    }
   ],
   "source": [
    "train_images=train_images[:10000,:,:,:]\n",
    "train_labels=train_labels[:10000]\n",
    "test_images=test_images[:10000,:,:,:]\n",
    "test_labels=test_labels[:10000]\n",
    "print('a:',train_images.shape,train_labels.shape)"
   ]
  },
  {
   "cell_type": "code",
   "execution_count": 11,
   "metadata": {},
   "outputs": [
    {
     "data": {
      "text/plain": [
       "10000"
      ]
     },
     "execution_count": 11,
     "metadata": {},
     "output_type": "execute_result"
    }
   ],
   "source": [
    "train_images.shape[0]"
   ]
  },
  {
   "cell_type": "code",
   "execution_count": 132,
   "metadata": {},
   "outputs": [
    {
     "name": "stdout",
     "output_type": "stream",
     "text": [
      "(108, 32, 32, 3)\n"
     ]
    },
    {
     "name": "stderr",
     "output_type": "stream",
     "text": [
      "/Library/Frameworks/Python.framework/Versions/3.6/lib/python3.6/site-packages/ipykernel_launcher.py:9: FutureWarning: Using a non-tuple sequence for multidimensional indexing is deprecated; use `arr[tuple(seq)]` instead of `arr[seq]`. In the future this will be interpreted as an array index, `arr[np.array(seq)]`, which will result either in an error or a different result.\n",
      "  if __name__ == '__main__':\n",
      "/Library/Frameworks/Python.framework/Versions/3.6/lib/python3.6/site-packages/ipykernel_launcher.py:10: FutureWarning: Using a non-tuple sequence for multidimensional indexing is deprecated; use `arr[tuple(seq)]` instead of `arr[seq]`. In the future this will be interpreted as an array index, `arr[np.array(seq)]`, which will result either in an error or a different result.\n",
      "  # Remove the CWD from sys.path while we load stuff.\n"
     ]
    }
   ],
   "source": [
    "import numpy as np\n",
    "train_classify = {}\n",
    "\n",
    "for i in range(1,1000):\n",
    "    label = str(train_labels[i-1])\n",
    "    if label not in train_classify:\n",
    "#         print(train_images[i-1].shape)\n",
    "        train_classify[label] = {'train_images':train_images[i-1][np.newaxis,...],'train_labels': train_labels[i-1]}\n",
    "    train_classify[label]['train_images'] = np.vstack([train_classify[label]['train_images'],train_images[i-1][[np.newaxis,...]]])\n",
    "    train_classify[label]['train_labels'] = np.vstack([train_classify[label]['train_labels'],train_labels[i-1][[np.newaxis,...]]])\n",
    "#     print(train_classify[label]['train_images'].shape)\n",
    "\n",
    "    \n",
    "print(train_classify['[6]']['train_images'].shape)    "
   ]
  },
  {
   "cell_type": "code",
   "execution_count": 37,
   "metadata": {},
   "outputs": [
    {
     "name": "stdout",
     "output_type": "stream",
     "text": [
      "(50000, 32, 32, 3) (10000, 32, 32, 3)\n"
     ]
    }
   ],
   "source": [
    "train_images, test_images = train_images / 255.0, test_images / 255.0\n",
    "print(train_images.shape, test_images.shape)"
   ]
  },
  {
   "cell_type": "code",
   "execution_count": 38,
   "metadata": {},
   "outputs": [],
   "source": [
    "# train_images0=tf.keras.utils.to_categorical(train_images,10) \n",
    "# test_images0=tf.keras.utils.to_categorical(test_images,10)\n"
   ]
  },
  {
   "cell_type": "code",
   "execution_count": 39,
   "metadata": {},
   "outputs": [
    {
     "name": "stdout",
     "output_type": "stream",
     "text": [
      "b (50000, 32, 32, 3, 1) (10000, 32, 32, 3, 1)\n"
     ]
    }
   ],
   "source": [
    "\n",
    "# 归一化\n",
    "# train_images1=tf.cast(train_images[...,tf.newaxis]/255, tf.float32)\n",
    "# test_images1 = tf.cast(test_images[...,tf.newaxis]/255, tf.float32)\n",
    "# print('b',train_images1.shape,test_images1.shape)\n"
   ]
  },
  {
   "cell_type": "code",
   "execution_count": 16,
   "metadata": {},
   "outputs": [
    {
     "name": "stdout",
     "output_type": "stream",
     "text": [
      "c (10000, 10) (10000, 10)\n"
     ]
    }
   ],
   "source": [
    "# 转换成one-hot\n",
    "train_labels1=tf.keras.utils.to_categorical(train_labels,10) \n",
    "test_labels1=tf.keras.utils.to_categorical(test_labels,10)\n",
    "print('c',train_labels1.shape,test_labels1.shape)\n"
   ]
  },
  {
   "cell_type": "code",
   "execution_count": 158,
   "metadata": {},
   "outputs": [
    {
     "name": "stdout",
     "output_type": "stream",
     "text": [
      "Model: \"sequential_11\"\n",
      "_________________________________________________________________\n",
      "Layer (type)                 Output Shape              Param #   \n",
      "=================================================================\n",
      "conv2d_33 (Conv2D)           (None, 32, 32, 32)        896       \n",
      "_________________________________________________________________\n",
      "max_pooling2d_22 (MaxPooling (None, 16, 16, 32)        0         \n",
      "_________________________________________________________________\n",
      "conv2d_34 (Conv2D)           (None, 16, 16, 64)        18496     \n",
      "_________________________________________________________________\n",
      "max_pooling2d_23 (MaxPooling (None, 8, 8, 64)          0         \n",
      "_________________________________________________________________\n",
      "conv2d_35 (Conv2D)           (None, 8, 8, 64)          36928     \n",
      "_________________________________________________________________\n",
      "flatten_11 (Flatten)         (None, 4096)              0         \n",
      "_________________________________________________________________\n",
      "dense_22 (Dense)             (None, 64)                262208    \n",
      "_________________________________________________________________\n",
      "dense_23 (Dense)             (None, 10)                650       \n",
      "=================================================================\n",
      "Total params: 319,178\n",
      "Trainable params: 319,178\n",
      "Non-trainable params: 0\n",
      "_________________________________________________________________\n"
     ]
    }
   ],
   "source": [
    "image_model=tf.keras.Sequential([\n",
    "    tf.keras.layers.Conv2D(32,[3,3], padding='same',activation='relu',input_shape=(32,32,3)),\n",
    "    \n",
    "    tf.keras.layers.MaxPooling2D(pool_size=(2,2)),\n",
    "    tf.keras.layers.Conv2D(64,[3,3], padding='same',activation='relu'),\n",
    "    tf.keras.layers.MaxPooling2D(pool_size=(2,2)),\n",
    "    tf.keras.layers.Conv2D(64,[3,3], padding='same',activation='relu'),\n",
    "#     tf.keras.layers.Dropout(0.25),\n",
    "#     转全连接网络\n",
    "    tf.keras.layers.Flatten(),\n",
    "    tf.keras.layers.Dense(64, activation='relu'),\n",
    "#     tf.keras.layers.Dropout(0.5),\n",
    "    tf.keras.layers.Dense(10,activation='softmax')\n",
    "])\n",
    "image_model.summary()"
   ]
  },
  {
   "cell_type": "code",
   "execution_count": null,
   "metadata": {},
   "outputs": [],
   "source": []
  },
  {
   "cell_type": "code",
   "execution_count": 163,
   "metadata": {},
   "outputs": [],
   "source": [
    "image_model.compile(\n",
    "                    optimizer='adam',\n",
    "#                     loss = tf.keras.losses.categorical_crossentropy,\n",
    "                   loss = tf.keras.losses.SparseCategoricalCrossentropy(from_logits=True),\n",
    "                    metrics = [\"accuracy\"]\n",
    "                   )\n",
    "\n",
    "# image_model.compile(optimizer='adam',\n",
    "#               loss=tf.keras.losses.BinaryCrossentropy(from_logits=True),\n",
    "#               metrics=['accuracy'])"
   ]
  },
  {
   "cell_type": "code",
   "execution_count": 151,
   "metadata": {},
   "outputs": [],
   "source": [
    "total_val=train_images.shape[0]"
   ]
  },
  {
   "cell_type": "code",
   "execution_count": 156,
   "metadata": {},
   "outputs": [
    {
     "ename": "TypeError",
     "evalue": "fit_generator() got multiple values for argument 'steps_per_epoch'",
     "output_type": "error",
     "traceback": [
      "\u001b[0;31m---------------------------------------------------------------------------\u001b[0m",
      "\u001b[0;31mTypeError\u001b[0m                                 Traceback (most recent call last)",
      "\u001b[0;32m<ipython-input-156-4b791e6090a1>\u001b[0m in \u001b[0;36m<module>\u001b[0;34m\u001b[0m\n\u001b[1;32m      9\u001b[0m         \u001b[0mepochs\u001b[0m\u001b[0;34m=\u001b[0m\u001b[0;36m10\u001b[0m\u001b[0;34m,\u001b[0m\u001b[0;34m\u001b[0m\u001b[0m\n\u001b[1;32m     10\u001b[0m         \u001b[0mvalidation_data\u001b[0m\u001b[0;34m=\u001b[0m\u001b[0;34m(\u001b[0m\u001b[0mtest_images\u001b[0m\u001b[0;34m,\u001b[0m\u001b[0mtest_labels\u001b[0m\u001b[0;34m)\u001b[0m\u001b[0;34m,\u001b[0m\u001b[0;34m\u001b[0m\u001b[0m\n\u001b[0;32m---> 11\u001b[0;31m         \u001b[0mvalidation_steps\u001b[0m\u001b[0;34m=\u001b[0m\u001b[0mtotal_val\u001b[0m\u001b[0;34m\u001b[0m\u001b[0m\n\u001b[0m\u001b[1;32m     12\u001b[0m     )\n\u001b[1;32m     13\u001b[0m \u001b[0;34m\u001b[0m\u001b[0m\n",
      "\u001b[0;32m/Library/Frameworks/Python.framework/Versions/3.6/lib/python3.6/site-packages/tensorflow_core/python/util/deprecation.py\u001b[0m in \u001b[0;36mnew_func\u001b[0;34m(*args, **kwargs)\u001b[0m\n\u001b[1;32m    322\u001b[0m               \u001b[0;34m'in a future version'\u001b[0m \u001b[0;32mif\u001b[0m \u001b[0mdate\u001b[0m \u001b[0;32mis\u001b[0m \u001b[0;32mNone\u001b[0m \u001b[0;32melse\u001b[0m \u001b[0;34m(\u001b[0m\u001b[0;34m'after %s'\u001b[0m \u001b[0;34m%\u001b[0m \u001b[0mdate\u001b[0m\u001b[0;34m)\u001b[0m\u001b[0;34m,\u001b[0m\u001b[0;34m\u001b[0m\u001b[0m\n\u001b[1;32m    323\u001b[0m               instructions)\n\u001b[0;32m--> 324\u001b[0;31m       \u001b[0;32mreturn\u001b[0m \u001b[0mfunc\u001b[0m\u001b[0;34m(\u001b[0m\u001b[0;34m*\u001b[0m\u001b[0margs\u001b[0m\u001b[0;34m,\u001b[0m \u001b[0;34m**\u001b[0m\u001b[0mkwargs\u001b[0m\u001b[0;34m)\u001b[0m\u001b[0;34m\u001b[0m\u001b[0m\n\u001b[0m\u001b[1;32m    325\u001b[0m     return tf_decorator.make_decorator(\n\u001b[1;32m    326\u001b[0m         \u001b[0mfunc\u001b[0m\u001b[0;34m,\u001b[0m \u001b[0mnew_func\u001b[0m\u001b[0;34m,\u001b[0m \u001b[0;34m'deprecated'\u001b[0m\u001b[0;34m,\u001b[0m\u001b[0;34m\u001b[0m\u001b[0m\n",
      "\u001b[0;31mTypeError\u001b[0m: fit_generator() got multiple values for argument 'steps_per_epoch'"
     ]
    }
   ],
   "source": [
    "# for key in train_classify:\n",
    "\n",
    "#     train_data=train_classify[key]\n",
    "    \n",
    "#     history = image_model.fit_generator(\n",
    "#         train_data['train_images'],train_data['train_labels'],\n",
    "# #         steps_per_epoch=train_data['train_images'] ,\n",
    "#         steps_per_epoch=64,\n",
    "#         epochs=10,\n",
    "#         validation_data=(test_images,test_labels),\n",
    "#         validation_steps=total_val \n",
    "#     )\n",
    "    "
   ]
  },
  {
   "cell_type": "code",
   "execution_count": 164,
   "metadata": {},
   "outputs": [
    {
     "name": "stdout",
     "output_type": "stream",
     "text": [
      "Train on 108 samples\n",
      "Epoch 1/10\n",
      "108/108 [==============================] - 0s 4ms/sample - loss: 2.4570 - accuracy: 0.0000e+00\n",
      "Epoch 2/10\n",
      "108/108 [==============================] - 0s 636us/sample - loss: 2.4612 - accuracy: 0.0000e+00\n",
      "Epoch 3/10\n",
      "108/108 [==============================] - 0s 752us/sample - loss: 2.4612 - accuracy: 0.0000e+00\n",
      "Epoch 4/10\n",
      "108/108 [==============================] - 0s 733us/sample - loss: 2.4612 - accuracy: 0.0000e+00\n",
      "Epoch 5/10\n",
      "108/108 [==============================] - 0s 699us/sample - loss: 2.4612 - accuracy: 0.0000e+00\n",
      "Epoch 6/10\n",
      "108/108 [==============================] - 0s 758us/sample - loss: 2.4612 - accuracy: 0.0000e+00\n",
      "Epoch 7/10\n",
      "108/108 [==============================] - 0s 779us/sample - loss: 2.4612 - accuracy: 0.0000e+00\n",
      "Epoch 8/10\n",
      "108/108 [==============================] - 0s 777us/sample - loss: 2.4612 - accuracy: 0.0000e+00\n",
      "Epoch 9/10\n",
      "108/108 [==============================] - 0s 580us/sample - loss: 2.4612 - accuracy: 0.0000e+00\n",
      "Epoch 10/10\n",
      "108/108 [==============================] - 0s 695us/sample - loss: 2.4612 - accuracy: 0.0000e+00\n",
      "Train on 104 samples\n",
      "Epoch 1/10\n",
      "104/104 [==============================] - 0s 765us/sample - loss: 2.4612 - accuracy: 0.0000e+00\n",
      "Epoch 2/10\n",
      "104/104 [==============================] - 0s 753us/sample - loss: 2.4612 - accuracy: 0.0000e+00\n",
      "Epoch 3/10\n",
      "104/104 [==============================] - 0s 723us/sample - loss: 2.4612 - accuracy: 0.0000e+00\n",
      "Epoch 4/10\n",
      "104/104 [==============================] - 0s 750us/sample - loss: 2.4612 - accuracy: 0.0000e+00\n",
      "Epoch 5/10\n",
      "104/104 [==============================] - 0s 805us/sample - loss: 2.4612 - accuracy: 0.0000e+00\n",
      "Epoch 6/10\n",
      "104/104 [==============================] - 0s 671us/sample - loss: 2.4612 - accuracy: 0.0000e+00\n",
      "Epoch 7/10\n",
      "104/104 [==============================] - 0s 735us/sample - loss: 2.4612 - accuracy: 0.0000e+00\n",
      "Epoch 8/10\n",
      "104/104 [==============================] - 0s 767us/sample - loss: 2.4612 - accuracy: 0.0000e+00\n",
      "Epoch 9/10\n",
      "104/104 [==============================] - 0s 696us/sample - loss: 2.4612 - accuracy: 0.0000e+00\n",
      "Epoch 10/10\n",
      "104/104 [==============================] - 0s 727us/sample - loss: 2.4612 - accuracy: 0.0000e+00\n",
      "Train on 100 samples\n",
      "Epoch 1/10\n",
      "100/100 [==============================] - 0s 804us/sample - loss: 2.4612 - accuracy: 0.0000e+00\n",
      "Epoch 2/10\n",
      "100/100 [==============================] - 0s 638us/sample - loss: 2.4612 - accuracy: 0.0000e+00\n",
      "Epoch 3/10\n",
      "100/100 [==============================] - 0s 798us/sample - loss: 2.4612 - accuracy: 0.0000e+00\n",
      "Epoch 4/10\n",
      "100/100 [==============================] - 0s 674us/sample - loss: 2.4612 - accuracy: 0.0000e+00\n",
      "Epoch 5/10\n",
      "100/100 [==============================] - 0s 699us/sample - loss: 2.4612 - accuracy: 0.0000e+00\n",
      "Epoch 6/10\n",
      "100/100 [==============================] - 0s 803us/sample - loss: 2.4612 - accuracy: 0.0000e+00\n",
      "Epoch 7/10\n",
      "100/100 [==============================] - 0s 770us/sample - loss: 2.4612 - accuracy: 0.0000e+00\n",
      "Epoch 8/10\n",
      "100/100 [==============================] - 0s 672us/sample - loss: 2.4612 - accuracy: 0.0000e+00\n",
      "Epoch 9/10\n",
      "100/100 [==============================] - 0s 760us/sample - loss: 2.4612 - accuracy: 0.0000e+00\n",
      "Epoch 10/10\n",
      "100/100 [==============================] - 0s 713us/sample - loss: 2.4612 - accuracy: 0.0000e+00\n",
      "Train on 113 samples\n",
      "Epoch 1/10\n",
      "113/113 [==============================] - 0s 744us/sample - loss: 2.4612 - accuracy: 0.0000e+00\n",
      "Epoch 2/10\n",
      "113/113 [==============================] - 0s 727us/sample - loss: 2.4612 - accuracy: 0.0000e+00\n",
      "Epoch 3/10\n",
      "113/113 [==============================] - 0s 697us/sample - loss: 2.4612 - accuracy: 0.0000e+00\n",
      "Epoch 4/10\n",
      "113/113 [==============================] - 0s 746us/sample - loss: 2.4612 - accuracy: 0.0000e+00\n",
      "Epoch 5/10\n",
      "113/113 [==============================] - 0s 711us/sample - loss: 2.4612 - accuracy: 0.0000e+00\n",
      "Epoch 6/10\n",
      "113/113 [==============================] - 0s 706us/sample - loss: 2.4612 - accuracy: 0.0000e+00\n",
      "Epoch 7/10\n",
      "113/113 [==============================] - 0s 743us/sample - loss: 2.4612 - accuracy: 0.0000e+00\n",
      "Epoch 8/10\n",
      "113/113 [==============================] - 0s 706us/sample - loss: 2.4612 - accuracy: 0.0000e+00\n",
      "Epoch 9/10\n",
      "113/113 [==============================] - 0s 831us/sample - loss: 2.4612 - accuracy: 0.0000e+00\n",
      "Epoch 10/10\n",
      "113/113 [==============================] - 0s 728us/sample - loss: 2.4612 - accuracy: 0.0000e+00\n",
      "Train on 100 samples\n",
      "Epoch 1/10\n",
      "100/100 [==============================] - 0s 750us/sample - loss: 2.4612 - accuracy: 0.0000e+00\n",
      "Epoch 2/10\n",
      "100/100 [==============================] - 0s 1ms/sample - loss: 2.4612 - accuracy: 0.0000e+00\n",
      "Epoch 3/10\n",
      "100/100 [==============================] - 0s 751us/sample - loss: 2.4612 - accuracy: 0.0000e+00\n",
      "Epoch 4/10\n",
      "100/100 [==============================] - 0s 888us/sample - loss: 2.4612 - accuracy: 0.0000e+00\n",
      "Epoch 5/10\n",
      "100/100 [==============================] - 0s 726us/sample - loss: 2.4612 - accuracy: 0.0000e+00\n",
      "Epoch 6/10\n",
      "100/100 [==============================] - 0s 754us/sample - loss: 2.4612 - accuracy: 0.0000e+00\n",
      "Epoch 7/10\n",
      "100/100 [==============================] - 0s 674us/sample - loss: 2.4612 - accuracy: 0.0000e+00\n",
      "Epoch 8/10\n",
      "100/100 [==============================] - 0s 630us/sample - loss: 2.4612 - accuracy: 0.0000e+00\n",
      "Epoch 9/10\n",
      "100/100 [==============================] - 0s 797us/sample - loss: 2.4612 - accuracy: 0.0000e+00\n",
      "Epoch 10/10\n",
      "100/100 [==============================] - 0s 819us/sample - loss: 2.4612 - accuracy: 0.0000e+00\n",
      "Train on 103 samples\n",
      "Epoch 1/10\n",
      "103/103 [==============================] - 0s 760us/sample - loss: 2.4612 - accuracy: 0.0000e+00\n",
      "Epoch 2/10\n",
      "103/103 [==============================] - 0s 719us/sample - loss: 2.4612 - accuracy: 0.0000e+00\n",
      "Epoch 3/10\n",
      "103/103 [==============================] - 0s 659us/sample - loss: 2.4612 - accuracy: 0.0000e+00\n",
      "Epoch 4/10\n",
      "103/103 [==============================] - 0s 899us/sample - loss: 2.4612 - accuracy: 0.0000e+00\n",
      "Epoch 5/10\n",
      "103/103 [==============================] - 0s 812us/sample - loss: 2.4612 - accuracy: 0.0000e+00\n",
      "Epoch 6/10\n",
      "103/103 [==============================] - 0s 783us/sample - loss: 2.4612 - accuracy: 0.0000e+00\n",
      "Epoch 7/10\n",
      "103/103 [==============================] - 0s 700us/sample - loss: 2.4612 - accuracy: 0.0000e+00\n",
      "Epoch 8/10\n",
      "103/103 [==============================] - 0s 737us/sample - loss: 2.4612 - accuracy: 0.0000e+00\n",
      "Epoch 9/10\n",
      "103/103 [==============================] - 0s 771us/sample - loss: 2.4612 - accuracy: 0.0000e+00\n",
      "Epoch 10/10\n",
      "103/103 [==============================] - 0s 792us/sample - loss: 2.4612 - accuracy: 0.0000e+00\n",
      "Train on 100 samples\n",
      "Epoch 1/10\n",
      "100/100 [==============================] - 0s 728us/sample - loss: 2.4612 - accuracy: 0.0000e+00\n",
      "Epoch 2/10\n",
      "100/100 [==============================] - 0s 747us/sample - loss: 2.4612 - accuracy: 0.0000e+00\n",
      "Epoch 3/10\n",
      "100/100 [==============================] - 0s 772us/sample - loss: 2.4612 - accuracy: 0.0000e+00\n",
      "Epoch 4/10\n",
      "100/100 [==============================] - 0s 816us/sample - loss: 2.4612 - accuracy: 0.0000e+00\n",
      "Epoch 5/10\n",
      "100/100 [==============================] - 0s 797us/sample - loss: 2.4612 - accuracy: 0.0000e+00\n",
      "Epoch 6/10\n",
      "100/100 [==============================] - 0s 812us/sample - loss: 2.4612 - accuracy: 0.0000e+00\n",
      "Epoch 7/10\n",
      "100/100 [==============================] - 0s 700us/sample - loss: 2.4612 - accuracy: 0.0000e+00\n",
      "Epoch 8/10\n",
      "100/100 [==============================] - 0s 797us/sample - loss: 2.4612 - accuracy: 0.0000e+00\n",
      "Epoch 9/10\n",
      "100/100 [==============================] - 0s 782us/sample - loss: 2.4612 - accuracy: 0.0000e+00\n",
      "Epoch 10/10\n",
      "100/100 [==============================] - 0s 737us/sample - loss: 2.4612 - accuracy: 0.0000e+00\n",
      "Train on 93 samples\n",
      "Epoch 1/10\n",
      "93/93 [==============================] - 0s 690us/sample - loss: 1.4612 - accuracy: 1.0000\n",
      "Epoch 2/10\n",
      "93/93 [==============================] - 0s 739us/sample - loss: 1.4612 - accuracy: 1.0000\n",
      "Epoch 3/10\n",
      "93/93 [==============================] - 0s 808us/sample - loss: 1.4612 - accuracy: 1.0000\n",
      "Epoch 4/10\n",
      "93/93 [==============================] - 0s 785us/sample - loss: 1.4612 - accuracy: 1.0000\n",
      "Epoch 5/10\n"
     ]
    },
    {
     "name": "stdout",
     "output_type": "stream",
     "text": [
      "93/93 [==============================] - 0s 847us/sample - loss: 1.4612 - accuracy: 1.0000\n",
      "Epoch 6/10\n",
      "93/93 [==============================] - 0s 818us/sample - loss: 1.4612 - accuracy: 1.0000\n",
      "Epoch 7/10\n",
      "93/93 [==============================] - 0s 747us/sample - loss: 1.4612 - accuracy: 1.0000\n",
      "Epoch 8/10\n",
      "93/93 [==============================] - 0s 830us/sample - loss: 1.4612 - accuracy: 1.0000\n",
      "Epoch 9/10\n",
      "93/93 [==============================] - 0s 902us/sample - loss: 1.4612 - accuracy: 1.0000\n",
      "Epoch 10/10\n",
      "93/93 [==============================] - 0s 929us/sample - loss: 1.4612 - accuracy: 1.0000\n",
      "Train on 85 samples\n",
      "Epoch 1/10\n",
      "85/85 [==============================] - 0s 941us/sample - loss: 2.4612 - accuracy: 0.0000e+00\n",
      "Epoch 2/10\n",
      "85/85 [==============================] - 0s 895us/sample - loss: 2.4612 - accuracy: 0.0000e+00\n",
      "Epoch 3/10\n",
      "85/85 [==============================] - 0s 1ms/sample - loss: 2.4612 - accuracy: 0.0000e+00\n",
      "Epoch 4/10\n",
      "85/85 [==============================] - 0s 768us/sample - loss: 2.4612 - accuracy: 0.0000e+00\n",
      "Epoch 5/10\n",
      "85/85 [==============================] - 0s 722us/sample - loss: 2.4612 - accuracy: 0.0000e+00\n",
      "Epoch 6/10\n",
      "85/85 [==============================] - 0s 740us/sample - loss: 2.4612 - accuracy: 0.0000e+00\n",
      "Epoch 7/10\n",
      "85/85 [==============================] - 0s 876us/sample - loss: 2.4612 - accuracy: 0.0000e+00\n",
      "Epoch 8/10\n",
      "85/85 [==============================] - 0s 773us/sample - loss: 2.4612 - accuracy: 0.0000e+00\n",
      "Epoch 9/10\n",
      "85/85 [==============================] - 0s 824us/sample - loss: 2.4612 - accuracy: 0.0000e+00\n",
      "Epoch 10/10\n",
      "85/85 [==============================] - 0s 825us/sample - loss: 2.4612 - accuracy: 0.0000e+00\n",
      "Train on 103 samples\n",
      "Epoch 1/10\n",
      "103/103 [==============================] - 0s 718us/sample - loss: 2.4612 - accuracy: 0.0000e+00\n",
      "Epoch 2/10\n",
      "103/103 [==============================] - 0s 713us/sample - loss: 2.4612 - accuracy: 0.0000e+00\n",
      "Epoch 3/10\n",
      "103/103 [==============================] - 0s 691us/sample - loss: 2.4612 - accuracy: 0.0000e+00\n",
      "Epoch 4/10\n",
      "103/103 [==============================] - 0s 754us/sample - loss: 2.4612 - accuracy: 0.0000e+00\n",
      "Epoch 5/10\n",
      "103/103 [==============================] - 0s 750us/sample - loss: 2.4612 - accuracy: 0.0000e+00\n",
      "Epoch 6/10\n",
      "103/103 [==============================] - 0s 769us/sample - loss: 2.4612 - accuracy: 0.0000e+00\n",
      "Epoch 7/10\n",
      "103/103 [==============================] - 0s 733us/sample - loss: 2.4612 - accuracy: 0.0000e+00\n",
      "Epoch 8/10\n",
      "103/103 [==============================] - 0s 771us/sample - loss: 2.4612 - accuracy: 0.0000e+00\n",
      "Epoch 9/10\n",
      "103/103 [==============================] - 0s 798us/sample - loss: 2.4612 - accuracy: 0.0000e+00\n",
      "Epoch 10/10\n",
      "103/103 [==============================] - 0s 844us/sample - loss: 2.4612 - accuracy: 0.0000e+00\n"
     ]
    }
   ],
   "source": [
    "for key in train_classify:\n",
    "\n",
    "    train_data=train_classify[key]\n",
    "\n",
    "    history=image_model.fit(train_data['train_images'],train_data['train_labels'],batch_size=64,epochs=10, shuffle=True,\n",
    "#                validation_data=(test_images, test_labels)\n",
    "               )\n",
    "# image_model.fit(train_images,train_labels,batch_size=64,epochs=10, shuffle=True,\n",
    "#                validation_data=(test_images, test_labels)\n",
    "#                )"
   ]
  },
  {
   "cell_type": "code",
   "execution_count": 125,
   "metadata": {},
   "outputs": [
    {
     "data": {
      "text/plain": [
       "{'loss': [2.4611501693725586,\n",
       "  2.4611501693725586,\n",
       "  2.4611501693725586,\n",
       "  2.4611501693725586,\n",
       "  2.4611501693725586,\n",
       "  2.4611501693725586,\n",
       "  2.4611501693725586,\n",
       "  2.4611501693725586,\n",
       "  2.4611501693725586,\n",
       "  2.4611501693725586],\n",
       " 'accuracy': [0.0, 0.0, 0.0, 0.0, 0.0, 0.0, 0.0, 0.0, 0.0, 0.0]}"
      ]
     },
     "execution_count": 125,
     "metadata": {},
     "output_type": "execute_result"
    }
   ],
   "source": [
    "history.history"
   ]
  },
  {
   "cell_type": "code",
   "execution_count": 127,
   "metadata": {},
   "outputs": [
    {
     "name": "stdout",
     "output_type": "stream",
     "text": [
      "10000/10000 - 2s - loss: 2.3611 - accuracy: 0.1000\n"
     ]
    },
    {
     "data": {
      "image/png": "[encoded data removed]",
      "text/plain": [
       "<Figure size 432x288 with 1 Axes>"
      ]
     },
     "metadata": {
      "needs_background": "light"
     },
     "output_type": "display_data"
    }
   ],
   "source": [
    "loss = history.history['loss'] # [0.1228,0.1342,0.1060,0.1136,0.1150,0.1010,0.0976,0.0982,0.0964]\n",
    "accuracy= history.history['accuracy']\n",
    "# accuracy=history.history['accuracy']\n",
    "plt.plot(accuracy, label='accuracy')\n",
    "plt.plot(loss, label = 'loss')\n",
    "plt.xlabel('Epoch')\n",
    "plt.ylabel('Accuracy')\n",
    "plt.ylim([0, 0.2])\n",
    "plt.legend(loc='lower right')\n",
    "\n",
    "test_loss, test_acc = image_model.evaluate(test_images,  test_labels, verbose=2)"
   ]
  },
  {
   "cell_type": "code",
   "execution_count": 96,
   "metadata": {},
   "outputs": [
    {
     "data": {
      "text/plain": [
       "(32, 32, 3)"
      ]
     },
     "execution_count": 96,
     "metadata": {},
     "output_type": "execute_result"
    }
   ],
   "source": [
    "test_images.shape\n",
    "test_images[0].shape"
   ]
  },
  {
   "cell_type": "code",
   "execution_count": 106,
   "metadata": {},
   "outputs": [
    {
     "data": {
      "image/png": "[encoded data removed]",
      "text/plain": [
       "<Figure size 432x288 with 1 Axes>"
      ]
     },
     "metadata": {},
     "output_type": "display_data"
    }
   ],
   "source": [
    "# plt.imshow(train_images[10])\n",
    "\n",
    "    plt.subplot(2,5,1)\n",
    "    plt.imshow(train_images[1])\n",
    "    plt.text(3,10,str(train_labels[1]))\n",
    "    plt.xticks([])\n",
    "    plt.yticks([])\n",
    "    plt.show()\n",
    "    \n",
    "# for i in range(1,11):\n",
    "#     plt.subplot(2,5,i)\n",
    "#     plt.imshow(train_images[i-1])\n",
    "#     plt.text(3,10,str(train_labels[i-1]))\n",
    "#     plt.xticks([])\n",
    "#     plt.yticks([])\n",
    "# plt.show()    "
   ]
  },
  {
   "cell_type": "code",
   "execution_count": 165,
   "metadata": {},
   "outputs": [
    {
     "ename": "TypeError",
     "evalue": "tuple indices must be integers or slices, not tuple",
     "output_type": "error",
     "traceback": [
      "\u001b[0;31m---------------------------------------------------------------------------\u001b[0m",
      "\u001b[0;31mTypeError\u001b[0m                                 Traceback (most recent call last)",
      "\u001b[0;32m<ipython-input-165-4e129c9ed015>\u001b[0m in \u001b[0;36m<module>\u001b[0;34m\u001b[0m\n\u001b[1;32m      5\u001b[0m \u001b[0;34m\u001b[0m\u001b[0m\n\u001b[1;32m      6\u001b[0m \u001b[0;34m\u001b[0m\u001b[0m\n\u001b[0;32m----> 7\u001b[0;31m \u001b[0mpredict_image\u001b[0m\u001b[0;34m(\u001b[0m\u001b[0mtest_images\u001b[0m\u001b[0;34m[\u001b[0m\u001b[0;36m0\u001b[0m\u001b[0;34m]\u001b[0m\u001b[0;34m.\u001b[0m\u001b[0mshape\u001b[0m\u001b[0;34m)\u001b[0m\u001b[0;34m\u001b[0m\u001b[0m\n\u001b[0m\u001b[1;32m      8\u001b[0m \u001b[0;34m\u001b[0m\u001b[0m\n",
      "\u001b[0;32m<ipython-input-165-4e129c9ed015>\u001b[0m in \u001b[0;36mpredict_image\u001b[0;34m(image)\u001b[0m\n\u001b[1;32m      1\u001b[0m \u001b[0;32mdef\u001b[0m \u001b[0mpredict_image\u001b[0m\u001b[0;34m(\u001b[0m\u001b[0mimage\u001b[0m\u001b[0;34m)\u001b[0m\u001b[0;34m:\u001b[0m\u001b[0;34m\u001b[0m\u001b[0m\n\u001b[0;32m----> 2\u001b[0;31m     \u001b[0mtf\u001b[0m\u001b[0;34m.\u001b[0m\u001b[0mcast\u001b[0m\u001b[0;34m(\u001b[0m\u001b[0mimage\u001b[0m\u001b[0;34m[\u001b[0m\u001b[0;34m...\u001b[0m\u001b[0;34m,\u001b[0m\u001b[0mtf\u001b[0m\u001b[0;34m.\u001b[0m\u001b[0mnewaxis\u001b[0m\u001b[0;34m]\u001b[0m\u001b[0;34m/\u001b[0m\u001b[0;36m255\u001b[0m\u001b[0;34m,\u001b[0m \u001b[0mtf\u001b[0m\u001b[0;34m.\u001b[0m\u001b[0mfloat32\u001b[0m\u001b[0;34m)\u001b[0m\u001b[0;34m\u001b[0m\u001b[0m\n\u001b[0m\u001b[1;32m      3\u001b[0m \u001b[0;31m# 转换成one-hot\u001b[0m\u001b[0;34m\u001b[0m\u001b[0;34m\u001b[0m\u001b[0m\n\u001b[1;32m      4\u001b[0m     \u001b[0mimage\u001b[0m\u001b[0;34m=\u001b[0m\u001b[0mtf\u001b[0m\u001b[0;34m.\u001b[0m\u001b[0mkeras\u001b[0m\u001b[0;34m.\u001b[0m\u001b[0mutils\u001b[0m\u001b[0;34m.\u001b[0m\u001b[0mto_categorical\u001b[0m\u001b[0;34m(\u001b[0m\u001b[0mimage\u001b[0m\u001b[0;34m,\u001b[0m\u001b[0;36m10\u001b[0m\u001b[0;34m)\u001b[0m\u001b[0;34m\u001b[0m\u001b[0m\n\u001b[1;32m      5\u001b[0m \u001b[0;34m\u001b[0m\u001b[0m\n",
      "\u001b[0;31mTypeError\u001b[0m: tuple indices must be integers or slices, not tuple"
     ]
    }
   ],
   "source": [
    "def predict_image(image):\n",
    "    tf.cast(image[...,tf.newaxis]/255, tf.float32)\n",
    "# 转换成one-hot\n",
    "    image=tf.keras.utils.to_categorical(image,10)\n",
    "    \n",
    "    \n",
    "predict_image(test_images[0].shape)    \n",
    "    "
   ]
  },
  {
   "cell_type": "markdown",
   "metadata": {},
   "source": [
    "### 4. Optional "
   ]
  },
  {
   "cell_type": "markdown",
   "metadata": {},
   "source": [
    "##### Do you want to build a CNN from scratch ? "
   ]
  },
  {
   "cell_type": "markdown",
   "metadata": {},
   "source": [
    "In this optianl part, you will build a cnn network step by step."
   ]
  },
  {
   "cell_type": "code",
   "execution_count": null,
   "metadata": {},
   "outputs": [],
   "source": [
    "import numpy as np\n",
    "np.random.seed(1)"
   ]
  },
  {
   "cell_type": "markdown",
   "metadata": {},
   "source": [
    "##### 4.1 Implement a convolution step"
   ]
  },
  {
   "cell_type": "markdown",
   "metadata": {},
   "source": [
    "Hints: Numpy.sum function might be useful."
   ]
  },
  {
   "cell_type": "code",
   "execution_count": null,
   "metadata": {},
   "outputs": [],
   "source": [
    "def conv_single_step(a_prev_slice,W,b):\n",
    "    '''\n",
    "    Apply one filter defined by parameters W on a single slice (a_slice_prev) of the output activation \n",
    "    of the previous layer.\n",
    "    Arguments:\n",
    "    a_prev_slice: slice of input data (shape=(f,f,n_C_prev))\n",
    "    W: Weight parameters contained in a window. (shape = (f,f,n_C_prev))\n",
    "    b: Bias parameters contained in a window. (shape=(1,1,1))\n",
    "    \n",
    "    Reutrns:\n",
    "    \n",
    "    Z: a scalar value, the result of convolving the sliding window (W, b) on a slice x of the input data \n",
    "    '''\n",
    "    # Element-wise product\n",
    "    s = None\n",
    "    \n",
    "    # Sum over s  \n",
    "    Z = None\n",
    "    \n",
    "    # Add bias b to z.\n",
    "    Z = None\n",
    "    \n",
    "    return Z"
   ]
  },
  {
   "cell_type": "code",
   "execution_count": null,
   "metadata": {},
   "outputs": [],
   "source": [
    "np.random.seed(1)\n",
    "a_slice_prev = np.random.randn(4, 4, 3)\n",
    "W = np.random.randn(4, 4, 3)\n",
    "b = np.random.randn(1, 1, 1)\n",
    "\n",
    "Z = conv_single_step(a_slice_prev, W, b)\n",
    "print(\"Z =\", Z)"
   ]
  },
  {
   "cell_type": "markdown",
   "metadata": {},
   "source": [
    "Use the code above to test your code. If your c\n",
    "ode is correct, you should be able to get the output shown as below."
   ]
  },
  {
   "cell_type": "markdown",
   "metadata": {},
   "source": [
    "<table>\n",
    "    <tr>\n",
    "        <td>\n",
    "            Z\n",
    "        </td>\n",
    "        <td>\n",
    "            -6.99908945068\n",
    "        </td>\n",
    "    </tr>\n",
    "\n",
    "</table>"
   ]
  },
  {
   "cell_type": "markdown",
   "metadata": {},
   "source": [
    "##### 4.2 Padding"
   ]
  },
  {
   "cell_type": "markdown",
   "metadata": {},
   "source": [
    "Hints: Numpy.pad function might be useful."
   ]
  },
  {
   "cell_type": "code",
   "execution_count": null,
   "metadata": {},
   "outputs": [],
   "source": [
    "def zero_pad(X, pad):\n",
    "    \"\"\"\n",
    "    Pad with zeros all images of the dataset X. The padding is applied to the height and width of an image, \n",
    "    as illustrated in Figure 1.\n",
    "    \n",
    "    Argument:\n",
    "    X: python numpy array of shape (m, n_H, n_W, n_C) representing a batch of m images\n",
    "    pad: integer, amount of padding around each image on vertical and horizontal dimensions\n",
    "    \n",
    "    Returns:\n",
    "    X_pad: padded image of shape (m, n_H + 2*pad, n_W + 2*pad, n_C)\n",
    "    \"\"\"\n",
    "\n",
    "    X_pad = None\n",
    "    \n",
    "    return X_pad"
   ]
  },
  {
   "cell_type": "code",
   "execution_count": null,
   "metadata": {},
   "outputs": [],
   "source": [
    "np.random.seed(1)\n",
    "x = np.random.randn(4, 3, 3, 2)\n",
    "x_pad = zero_pad(x, 2)\n",
    "print (\"x.shape =\\n\", x.shape)\n",
    "print (\"x_pad.shape =\\n\", x_pad.shape)\n",
    "print (\"x[1,1] =\\n\", x[1,1])\n",
    "print (\"x_pad[1,1] =\\n\", x_pad[1,1])"
   ]
  },
  {
   "cell_type": "markdown",
   "metadata": {},
   "source": [
    "Use the code above to test your code. If your code is correct, you should be able to get the output shown as below."
   ]
  },
  {
   "cell_type": "markdown",
   "metadata": {},
   "source": [
    "```\n",
    "x.shape =\n",
    " (4, 3, 3, 2)\n",
    "x_pad.shape =\n",
    " (4, 7, 7, 2)\n",
    "x[1,1] =\n",
    " [[ 0.90085595 -0.68372786]\n",
    " [-0.12289023 -0.93576943]\n",
    " [-0.26788808  0.53035547]]\n",
    "x_pad[1,1] =\n",
    " [[ 0.  0.]\n",
    " [ 0.  0.]\n",
    " [ 0.  0.]\n",
    " [ 0.  0.]\n",
    " [ 0.  0.]\n",
    " [ 0.  0.]\n",
    " [ 0.  0.]]\n",
    "```"
   ]
  },
  {
   "cell_type": "markdown",
   "metadata": {},
   "source": [
    "##### 4.3 Implement a forward propagation in CNN."
   ]
  },
  {
   "cell_type": "markdown",
   "metadata": {},
   "source": [
    "Hints: The formulas to calculate the output shapes are :"
   ]
  },
  {
   "cell_type": "markdown",
   "metadata": {},
   "source": [
    "$$ n_H = \\lfloor \\frac{n_{H_{prev}} - f + 2 \\times pad}{stride} \\rfloor +1 $$\n",
    "$$ n_W = \\lfloor \\frac{n_{W_{prev}} - f + 2 \\times pad}{stride} \\rfloor +1 $$\n",
    "$$ n_C = \\text{number of filters used in the convolution}$$"
   ]
  },
  {
   "cell_type": "code",
   "execution_count": null,
   "metadata": {},
   "outputs": [],
   "source": [
    "def conv_forward(A_prev, W, b, hparameters):\n",
    "    \"\"\"\n",
    "    Implements the forward propagation for a convolution function\n",
    "    \n",
    "    Arguments:\n",
    "    A_prev: output activations of the previous layer, \n",
    "        numpy array of shape (m, n_H_prev, n_W_prev, n_C_prev)\n",
    "    W: Weights, numpy array of shape (f, f, n_C_prev, n_C)\n",
    "    b: Biases, numpy array of shape (1, 1, 1, n_C)\n",
    "    hparameters: python dictionary containing \"stride\" and \"pad\"\n",
    "        \n",
    "    Returns:\n",
    "    Z: conv output, numpy array of shape (m, n_H, n_W, n_C)\n",
    "    cache: cache of values needed for the conv_backward() function\n",
    "    \"\"\"\n",
    "    \n",
    "    # Get dimensions from A_prev's shape  \n",
    "    (m, n_H_prev, n_W_prev, n_C_prev) = None\n",
    "    \n",
    "    # Get dimensions from W's shape \n",
    "    (f, f, n_C_prev, n_C) = None\n",
    "    \n",
    "    # Get information from \"hparameters\" \n",
    "    stride = None\n",
    "    pad = None\n",
    "    \n",
    "    # Compute the dimensions of the CONV output volume using the formula given above. \n",
    "    # Hint: use int() to apply the 'floor' operation. \n",
    "    n_H = None\n",
    "    n_W = None\n",
    "    \n",
    "    # Initialize the output volume Z with zeros. \n",
    "    Z = None\n",
    "    \n",
    "    # Create A_prev_pad by padding A_prev\n",
    "    A_prev_pad = None\n",
    "    \n",
    "    for i in range(None):               # loop over the batch of training examples\n",
    "        a_prev_pad = None               # Select ith training example's padded activation\n",
    "        for h in range(None):           # loop over vertical axis of the output volume\n",
    "            # Find the vertical start and end of the current \"slice\" \n",
    "            vert_start = None\n",
    "            vert_end = None\n",
    "            \n",
    "            for w in range(None):       # loop over horizontal axis of the output volume\n",
    "                # Find the horizontal start and end of the current \"slice\"\n",
    "                horiz_start = None\n",
    "                horiz_end = None\n",
    "                \n",
    "                for c in range(None):   # loop over channels (= #filters) of the output volume\n",
    "                                        \n",
    "                    # Use the corners to define the (3D) slice of a_prev_pad (See Hint above the cell). \n",
    "                    a_slice_prev = None\n",
    "                    \n",
    "                    # Convolve the (3D) slice with the correct filter W and bias b, to get back one output neuron. \n",
    "                    weights = None\n",
    "                    biases = None\n",
    "                    Z[i, h, w, c] = None\n",
    "                                        \n",
    "    \n",
    "    # Making sure your output shape is correct\n",
    "    assert(Z.shape == (m, n_H, n_W, n_C))\n",
    "    \n",
    "    # Save information in \"cache\" for the backprop\n",
    "    cache = (A_prev, W, b, hparameters)\n",
    "    \n",
    "    return Z, cache"
   ]
  },
  {
   "cell_type": "code",
   "execution_count": null,
   "metadata": {},
   "outputs": [],
   "source": [
    "np.random.seed(1)\n",
    "A_prev = np.random.randn(10,5,7,4)\n",
    "W = np.random.randn(3,3,4,8)\n",
    "b = np.random.randn(1,1,1,8)\n",
    "hparameters = {\"pad\" : 1,\n",
    "               \"stride\": 2}\n",
    "\n",
    "Z, cache_conv = conv_forward(A_prev, W, b, hparameters)\n",
    "print(\"Z's mean =\\n\", np.mean(Z))\n",
    "print(\"Z[3,2,1] =\\n\", Z[3,2,1])\n",
    "print(\"cache_conv[0][1][2][3] =\\n\", cache_conv[0][1][2][3])"
   ]
  },
  {
   "cell_type": "markdown",
   "metadata": {},
   "source": [
    "Use the code above to test your code. If your code is correct, you should be able to get the output shown as below."
   ]
  },
  {
   "cell_type": "markdown",
   "metadata": {},
   "source": [
    "```\n",
    "Z's mean =\n",
    " 0.692360880758\n",
    "Z[3,2,1] =\n",
    " [ -1.28912231   2.27650251   6.61941931   0.95527176   8.25132576\n",
    "   2.31329639  13.00689405   2.34576051]\n",
    "cache_conv[0][1][2][3] = [-1.1191154   1.9560789  -0.3264995  -1.34267579]\n",
    "```"
   ]
  },
  {
   "cell_type": "markdown",
   "metadata": {},
   "source": [
    "##### 4.4 Pooling layers"
   ]
  },
  {
   "cell_type": "markdown",
   "metadata": {},
   "source": [
    "Hints: As there\\'s no padding, the formulas binding the output shape of the pooling to the input shape is:\n",
    "\n",
    "$$ n_H = \\lfloor \\frac{n_{H_{prev}} - f}{stride} \\rfloor +1 $$\n",
    "\n",
    "$$ n_W = \\lfloor \\frac{n_{W_{prev}} - f}{stride} \\rfloor +1 $$\n",
    "\n",
    "$$ n_C = n_{C_{prev}}$$"
   ]
  },
  {
   "cell_type": "code",
   "execution_count": null,
   "metadata": {},
   "outputs": [],
   "source": [
    "def pool_forward(A_prev, hparameters, mode = \"max\"):\n",
    "    \"\"\"\n",
    "    Implements the forward pass of the pooling layer\n",
    "    \n",
    "    Arguments:\n",
    "    A_prev: Input data, numpy array of shape (m, n_H_prev, n_W_prev, n_C_prev)\n",
    "    hparameters: python dictionary containing \"f\" and \"stride\"\n",
    "    mode: the pooling mode you would like to use, defined as a string (\"max\" or \"average\")\n",
    "    \n",
    "    Returns:\n",
    "    A: output of the pool layer, a numpy array of shape (m, n_H, n_W, n_C)\n",
    "    cache: cache used in the backward pass of the pooling layer, contains the input and hparameters \n",
    "    \"\"\"\n",
    "    \n",
    "    # Get dimensions from the input shape\n",
    "    (m, n_H_prev, n_W_prev, n_C_prev) = A_prev.shape\n",
    "    \n",
    "    # Get hyperparameters from \"hparameters\"\n",
    "    f = hparameters[\"f\"]\n",
    "    stride = hparameters[\"stride\"]\n",
    "    \n",
    "    # Define the dimensions of the output\n",
    "    n_H = int(1 + (n_H_prev - f) / stride)\n",
    "    n_W = int(1 + (n_W_prev - f) / stride)\n",
    "    n_C = n_C_prev\n",
    "    \n",
    "    # Initialize output matrix A\n",
    "    A = np.zeros((m, n_H, n_W, n_C))              \n",
    "    \n",
    "    for i in range(None):                         # loop over the training examples\n",
    "        for h in range(None):                     # loop on the vertical axis of the output volume\n",
    "            # Find the vertical start and end of the current \"slice\" (≈2 lines)\n",
    "            vert_start = None\n",
    "            vert_end = None\n",
    "            \n",
    "            for w in range(None):                 # loop on the horizontal axis of the output volume\n",
    "                # Find the vertical start and end of the current \"slice\" (≈2 lines)\n",
    "                horiz_start = None\n",
    "                horiz_end = None\n",
    "                \n",
    "                for c in range (None):            # loop over the channels of the output volume\n",
    "                    \n",
    "                    # Use the corners to define the current slice on the ith training example of A_prev, channel c. (≈1 line)\n",
    "                    a_prev_slice = None\n",
    "                    \n",
    "                    # Compute the pooling operation on the slice. \n",
    "                    # Use an if statement to differentiate the modes. \n",
    "                    # Use np.max and np.mean.\n",
    "                    if mode == \"max\":\n",
    "                        A[i, h, w, c] = None\n",
    "                    elif mode == \"average\":\n",
    "                        A[i, h, w, c] = None\n",
    "    \n",
    "    # Store the input and hparameters in \"cache\" for pool_backward()\n",
    "    cache = (A_prev, hparameters)\n",
    "    \n",
    "    # Making sure your output shape is correct\n",
    "    assert(A.shape == (m, n_H, n_W, n_C))\n",
    "    \n",
    "    return A, cache"
   ]
  },
  {
   "cell_type": "code",
   "execution_count": null,
   "metadata": {},
   "outputs": [],
   "source": [
    "np.random.seed(1)\n",
    "A_prev = np.random.randn(2, 5, 5, 3)\n",
    "hparameters = {\"stride\" : 1, \"f\": 3}\n",
    "\n",
    "A, cache = pool_forward(A_prev, hparameters)\n",
    "print(\"mode = max\")\n",
    "print(\"A.shape = \" + str(A.shape))\n",
    "print(\"A =\\n\", A)\n",
    "print()\n",
    "A, cache = pool_forward(A_prev, hparameters, mode = \"average\")\n",
    "print(\"mode = average\")\n",
    "print(\"A.shape = \" + str(A.shape))\n",
    "print(\"A =\\n\", A)"
   ]
  },
  {
   "cell_type": "markdown",
   "metadata": {},
   "source": [
    "Use the code above to test your code. If your code is correct, you should be able to get the output shown as below."
   ]
  },
  {
   "cell_type": "markdown",
   "metadata": {},
   "source": [
    "```\n",
    "mode = max\n",
    "A.shape = (2, 3, 3, 3)\n",
    "A =\n",
    " [[[[ 1.74481176  0.90159072  1.65980218]\n",
    "   [ 1.74481176  1.46210794  1.65980218]\n",
    "   [ 1.74481176  1.6924546   1.65980218]]\n",
    "\n",
    "  [[ 1.14472371  0.90159072  2.10025514]\n",
    "   [ 1.14472371  0.90159072  1.65980218]\n",
    "   [ 1.14472371  1.6924546   1.65980218]]\n",
    "\n",
    "  [[ 1.13162939  1.51981682  2.18557541]\n",
    "   [ 1.13162939  1.51981682  2.18557541]\n",
    "   [ 1.13162939  1.6924546   2.18557541]]]\n",
    "\n",
    "\n",
    " [[[ 1.19891788  0.84616065  0.82797464]\n",
    "   [ 0.69803203  0.84616065  1.2245077 ]\n",
    "   [ 0.69803203  1.12141771  1.2245077 ]]\n",
    "\n",
    "  [[ 1.96710175  0.84616065  1.27375593]\n",
    "   [ 1.96710175  0.84616065  1.23616403]\n",
    "   [ 1.62765075  1.12141771  1.2245077 ]]\n",
    "\n",
    "  [[ 1.96710175  0.86888616  1.27375593]\n",
    "   [ 1.96710175  0.86888616  1.23616403]\n",
    "   [ 1.62765075  1.12141771  0.79280687]]]]\n",
    "\n",
    "mode = average\n",
    "A.shape = (2, 3, 3, 3)\n",
    "A =\n",
    " [[[[ -3.01046719e-02  -3.24021315e-03  -3.36298859e-01]\n",
    "   [  1.43310483e-01   1.93146751e-01  -4.44905196e-01]\n",
    "   [  1.28934436e-01   2.22428468e-01   1.25067597e-01]]\n",
    "\n",
    "  [[ -3.81801899e-01   1.59993515e-02   1.70562706e-01]\n",
    "   [  4.73707165e-02   2.59244658e-02   9.20338402e-02]\n",
    "   [  3.97048605e-02   1.57189094e-01   3.45302489e-01]]\n",
    "\n",
    "  [[ -3.82680519e-01   2.32579951e-01   6.25997903e-01]\n",
    "   [ -2.47157416e-01  -3.48524998e-04   3.50539717e-01]\n",
    "   [ -9.52551510e-02   2.68511000e-01   4.66056368e-01]]]\n",
    "\n",
    "\n",
    " [[[ -1.73134159e-01   3.23771981e-01  -3.43175716e-01]\n",
    "   [  3.80634669e-02   7.26706274e-02  -2.30268958e-01]\n",
    "   [  2.03009393e-02   1.41414785e-01  -1.23158476e-02]]\n",
    "\n",
    "  [[  4.44976963e-01  -2.61694592e-03  -3.10403073e-01]\n",
    "   [  5.08114737e-01  -2.34937338e-01  -2.39611830e-01]\n",
    "   [  1.18726772e-01   1.72552294e-01  -2.21121966e-01]]\n",
    "\n",
    "  [[  4.29449255e-01   8.44699612e-02  -2.72909051e-01]\n",
    "   [  6.76351685e-01  -1.20138225e-01  -2.44076712e-01]\n",
    "   [  1.50774518e-01   2.89111751e-01   1.23238536e-03]]]]\n",
    "```"
   ]
  },
  {
   "cell_type": "markdown",
   "metadata": {},
   "source": [
    "####  Congratulations! You hanve finished the assignment 6.  You now understand how convolutional neural networks work."
   ]
  }
 ],
 "metadata": {
  "kernelspec": {
   "display_name": "Python 3",
   "language": "python",
   "name": "python3"
  },
  "language_info": {
   "codemirror_mode": {
    "name": "ipython",
    "version": 3
   },
   "file_extension": ".py",
   "mimetype": "text/x-python",
   "name": "python",
   "nbconvert_exporter": "python",
   "pygments_lexer": "ipython3",
   "version": "3.6.5"
  }
 },
 "nbformat": 4,
 "nbformat_minor": 2
}
